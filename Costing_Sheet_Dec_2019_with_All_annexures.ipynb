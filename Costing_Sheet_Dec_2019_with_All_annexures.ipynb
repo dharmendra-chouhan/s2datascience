{
  "nbformat": 4,
  "nbformat_minor": 0,
  "metadata": {
    "colab": {
      "name": "Costing Sheet-Dec 2019 with All annexures.ipynb",
      "provenance": [],
      "collapsed_sections": [],
      "authorship_tag": "ABX9TyNCN2jMIf2D+3R4jn10vBtv",
      "include_colab_link": true
    },
    "kernelspec": {
      "name": "python3",
      "display_name": "Python 3"
    }
  },
  "cells": [
    {
      "cell_type": "markdown",
      "metadata": {
        "id": "view-in-github",
        "colab_type": "text"
      },
      "source": [
        "<a href=\"https://colab.research.google.com/github/dharmendra-chouhan/s2datascience/blob/master/Costing_Sheet_Dec_2019_with_All_annexures.ipynb\" target=\"_parent\"><img src=\"https://colab.research.google.com/assets/colab-badge.svg\" alt=\"Open In Colab\"/></a>"
      ]
    },
    {
      "cell_type": "code",
      "metadata": {
        "id": "IJG2bATQaurv",
        "colab_type": "code",
        "colab": {}
      },
      "source": [
        "#@title *Read a Excel file from a Google drive** {display-mode: \"form\"}\n",
        "!pip install -U -q PyDrive\n",
        "from pydrive.auth import GoogleAuth\n",
        "from pydrive.drive import GoogleDrive\n",
        "from google.colab import auth\n",
        "from oauth2client.client import GoogleCredentials\n",
        "\n",
        "# 1. Authenticate and create the PyDrive client.\n",
        "auth.authenticate_user()\n",
        "gauth = GoogleAuth()\n",
        "gauth.credentials = GoogleCredentials.get_application_default()\n",
        "drive = GoogleDrive(gauth)\n",
        "\n",
        "#2. Get the file Cosolidated sheet for Dec 2019_Annexure-3.xlsx\n",
        "downloaded = drive.CreateFile({'id':'1c_dTYm16Vp9JhvB2EUu8A7x0E6869Vtj'}) # replace the id with id of file you want to access\n",
        "downloaded.GetContentFile('Cosolidated sheet for Dec 2019_Annexure-3.xlsx')  \n",
        "\n",
        "# HLL Expenses Summary-Annexure-II.xlsx\n",
        "downloaded = drive.CreateFile({'id':'1NaFIGXdD7WMiMIpjkkNSCi2m4YOtSIR9'}) # replace the id with id of file you want to access\n",
        "downloaded.GetContentFile('HLL Expenses Summary-Annexure-II.xlsx')\n",
        "\n",
        "# Lab Wise Business Report_Annexure-I.xls\n",
        "downloaded = drive.CreateFile({'id':'1W31V3JFrzJDpcOIOHlpCY6ETrfxTU5Ue'}) # replace the id with id of file you want to access\n",
        "downloaded.GetContentFile('Lab Wise Business Report_Annexure-I.xls')\n",
        "\n",
        "# Rent for Dec 19_Annexure-5.xlsx\n",
        "downloaded = drive.CreateFile({'id':'1-UvqUpH-2pZV9_MS97Fuetp5E26U72VH'}) # replace the id with id of file you want to access\n",
        "downloaded.GetContentFile('Rent for Dec 19_Annexure-5.xlsx')\n",
        "\n",
        "import pandas as pd\n",
        "\n",
        "#3. Read file as panda dataframe \n",
        "\n",
        "# Cosolidated sheet for Dec 2019_Annexure-3.xlsx\n",
        "dfCosolidated_sheet_for_Dec_2019_Annexure_3 =  pd.read_excel('Cosolidated sheet for Dec 2019_Annexure-3.xlsx', sheet_name='Sheet1', skiprows=1)\n",
        "\n",
        "# HLL Expenses Summary-Annexure-II.xlsx\n",
        "dfhll_exp_sum_aII_CONSUMABLES =  pd.read_excel('HLL Expenses Summary-Annexure-II.xlsx', sheet_name='CONSUMABLES', skiprows=1)\n",
        "dfhll_exp_sum_aII_RENT =  pd.read_excel('HLL Expenses Summary-Annexure-II.xlsx', sheet_name='RENT', skiprows=1)\n",
        "dfhll_exp_sum_aII_THYROCARE =  pd.read_excel('HLL Expenses Summary-Annexure-II.xlsx', sheet_name='THYROCARE', skiprows=1)\n",
        "dfhll_exp_sum_aII_PATHOLOGIST =  pd.read_excel('HLL Expenses Summary-Annexure-II.xlsx', sheet_name='PATHOLOGIST', skiprows=1)\n",
        "\n",
        "# Lab Wise Business Report_Annexure-I.xls\n",
        "dflab_wise_business_Ann_I =  pd.read_excel('Lab Wise Business Report_Annexure-I.xls')\n",
        "dflab_wise_business_Ann_I=dflab_wise_business_Ann_I.drop([0])\n",
        "\n",
        "# Rent for Dec 19_Annexure-5.xlsx\n",
        "dfRentDec19_Annexure_5 =  pd.read_excel('Rent for Dec 19_Annexure-5.xlsx', sheet_name='Sheet1', skiprows=2)"
      ],
      "execution_count": 97,
      "outputs": []
    },
    {
      "cell_type": "markdown",
      "metadata": {
        "id": "U4LjiSQHzfJw",
        "colab_type": "text"
      },
      "source": [
        "# Datafram EXCEL sheet wise\n",
        "\n",
        "```\n",
        "# Cosolidated sheet for Dec 2019_Annexure-3.xlsx\n",
        "  1. dfCosolidated_sheet_for_Dec_2019_Annexure_3\n",
        "```\n",
        "```\n",
        "# HLL Expenses Summary-Annexure-II.xlsx\n",
        "  2. dfhll_exp_sum_aII_CONSUMABLES\n",
        "  3. dfhll_exp_sum_aII_RENT\n",
        "  4. dfhll_exp_sum_aII_THYROCARE\n",
        "  5. dfhll_exp_sum_aII_PATHOLOGIST\n",
        "```\n",
        "```\n",
        "# Lab Wise Business Report_Annexure-I.xls\n",
        "  6. dflab_wise_business_Ann_I\n",
        "```\n",
        "```\n",
        "# Rent for Dec 19_Annexure-5.xlsx\n",
        "  7.dfRentDec19_Annexure_5\n",
        "```"
      ]
    },
    {
      "cell_type": "code",
      "metadata": {
        "id": "tSvFG4Nx2W1B",
        "colab_type": "code",
        "colab": {
          "base_uri": "https://localhost:8080/",
          "height": 107
        },
        "outputId": "b80e5f6a-a2f9-448e-e65b-99b6383b3b09"
      },
      "source": [
        "#@title *Cosolidated sheet for Dec 2019_Annexure-3.xlsx* {display-mode: \"form\"}\n",
        "dfCosolidated_sheet_for_Dec_2019_Annexure_3.head(2)"
      ],
      "execution_count": 117,
      "outputs": [
        {
          "output_type": "execute_result",
          "data": {
            "text/html": [
              "<div>\n",
              "<style scoped>\n",
              "    .dataframe tbody tr th:only-of-type {\n",
              "        vertical-align: middle;\n",
              "    }\n",
              "\n",
              "    .dataframe tbody tr th {\n",
              "        vertical-align: top;\n",
              "    }\n",
              "\n",
              "    .dataframe thead th {\n",
              "        text-align: right;\n",
              "    }\n",
              "</style>\n",
              "<table border=\"1\" class=\"dataframe\">\n",
              "  <thead>\n",
              "    <tr style=\"text-align: right;\">\n",
              "      <th></th>\n",
              "      <th>Sr No.</th>\n",
              "      <th>User ID</th>\n",
              "      <th>Designation</th>\n",
              "      <th>District</th>\n",
              "      <th>Lab</th>\n",
              "      <th>Resource Name</th>\n",
              "      <th>Work From date</th>\n",
              "      <th>Total Pay</th>\n",
              "    </tr>\n",
              "  </thead>\n",
              "  <tbody>\n",
              "    <tr>\n",
              "      <th>0</th>\n",
              "      <td>1.0</td>\n",
              "      <td>9332.0</td>\n",
              "      <td>Collection Boy</td>\n",
              "      <td>AHMEDNAGAR</td>\n",
              "      <td>shrigonda</td>\n",
              "      <td>Rashtrabhushan Ghodake</td>\n",
              "      <td>15/02/2019</td>\n",
              "      <td>8000.0</td>\n",
              "    </tr>\n",
              "    <tr>\n",
              "      <th>1</th>\n",
              "      <td>2.0</td>\n",
              "      <td>9485.0</td>\n",
              "      <td>Collection Boy</td>\n",
              "      <td>AKOLA</td>\n",
              "      <td>Akola</td>\n",
              "      <td>Shantram Ratan Jadhav</td>\n",
              "      <td>05/03/2019</td>\n",
              "      <td>7500.0</td>\n",
              "    </tr>\n",
              "  </tbody>\n",
              "</table>\n",
              "</div>"
            ],
            "text/plain": [
              "   Sr No.  User ID  ... Work From date Total Pay\n",
              "0     1.0   9332.0  ...     15/02/2019    8000.0\n",
              "1     2.0   9485.0  ...     05/03/2019    7500.0\n",
              "\n",
              "[2 rows x 8 columns]"
            ]
          },
          "metadata": {
            "tags": []
          },
          "execution_count": 117
        }
      ]
    },
    {
      "cell_type": "code",
      "metadata": {
        "id": "0AhWb2qk4__I",
        "colab_type": "code",
        "colab": {
          "base_uri": "https://localhost:8080/",
          "height": 268
        },
        "outputId": "8fa6419f-5e55-4e83-9d0d-c2d6b139a668"
      },
      "source": [
        "#@title *Cosolidated sheet for Dec 2019_Annexure-3.xlsx(info)* {display-mode: \"form\"}\n",
        "dfCosolidated_sheet_for_Dec_2019_Annexure_3.info()"
      ],
      "execution_count": 102,
      "outputs": [
        {
          "output_type": "stream",
          "text": [
            "<class 'pandas.core.frame.DataFrame'>\n",
            "RangeIndex: 3345 entries, 0 to 3344\n",
            "Data columns (total 8 columns):\n",
            " #   Column          Non-Null Count  Dtype  \n",
            "---  ------          --------------  -----  \n",
            " 0   Sr No.          3339 non-null   float64\n",
            " 1   User ID         3339 non-null   float64\n",
            " 2   Designation     3339 non-null   object \n",
            " 3   District        3339 non-null   object \n",
            " 4   Lab             3339 non-null   object \n",
            " 5   Resource Name   3341 non-null   object \n",
            " 6   Work From date  3340 non-null   object \n",
            " 7   Total Pay       3343 non-null   float64\n",
            "dtypes: float64(3), object(5)\n",
            "memory usage: 209.2+ KB\n"
          ],
          "name": "stdout"
        }
      ]
    },
    {
      "cell_type": "code",
      "metadata": {
        "id": "bu2mtext2i-h",
        "colab_type": "code",
        "colab": {
          "base_uri": "https://localhost:8080/",
          "height": 107
        },
        "outputId": "a55fb541-8147-4bd6-9103-b7b9965da8db"
      },
      "source": [
        "#@title *HLL Expenses Summary-Annexure-II.xlsx --Consumbles* {display-mode: \"form\"}\n",
        "dfhll_exp_sum_aII_CONSUMABLES = dfhll_exp_sum_aII_CONSUMABLES.rename(columns={'Location': 'Lab'})\n",
        "dfhll_exp_sum_aII_CONSUMABLES.head(2)"
      ],
      "execution_count": 118,
      "outputs": [
        {
          "output_type": "execute_result",
          "data": {
            "text/html": [
              "<div>\n",
              "<style scoped>\n",
              "    .dataframe tbody tr th:only-of-type {\n",
              "        vertical-align: middle;\n",
              "    }\n",
              "\n",
              "    .dataframe tbody tr th {\n",
              "        vertical-align: top;\n",
              "    }\n",
              "\n",
              "    .dataframe thead th {\n",
              "        text-align: right;\n",
              "    }\n",
              "</style>\n",
              "<table border=\"1\" class=\"dataframe\">\n",
              "  <thead>\n",
              "    <tr style=\"text-align: right;\">\n",
              "      <th></th>\n",
              "      <th>Lab</th>\n",
              "      <th>Supplier Name</th>\n",
              "      <th>PO No.</th>\n",
              "      <th>Invoice No</th>\n",
              "      <th>Invoice Amt</th>\n",
              "      <th>Invoice Date</th>\n",
              "      <th>POSTING DATE</th>\n",
              "      <th>Unnamed: 7</th>\n",
              "    </tr>\n",
              "  </thead>\n",
              "  <tbody>\n",
              "    <tr>\n",
              "      <th>0</th>\n",
              "      <td>Kharghar</td>\n",
              "      <td>JAINAM/TULIP DIAGNOSTICS</td>\n",
              "      <td>538</td>\n",
              "      <td>SI/878</td>\n",
              "      <td>88158</td>\n",
              "      <td>2019-05-04</td>\n",
              "      <td>2019-05-23</td>\n",
              "      <td>NaN</td>\n",
              "    </tr>\n",
              "    <tr>\n",
              "      <th>1</th>\n",
              "      <td>Kharghar</td>\n",
              "      <td>JAINAM/TULIP DIAGNOSTICS</td>\n",
              "      <td>538</td>\n",
              "      <td>SI/879</td>\n",
              "      <td>86286</td>\n",
              "      <td>2019-05-04</td>\n",
              "      <td>2019-05-23</td>\n",
              "      <td>NaN</td>\n",
              "    </tr>\n",
              "  </tbody>\n",
              "</table>\n",
              "</div>"
            ],
            "text/plain": [
              "        Lab             Supplier Name  ... POSTING DATE Unnamed: 7\n",
              "0  Kharghar  JAINAM/TULIP DIAGNOSTICS  ...   2019-05-23        NaN\n",
              "1  Kharghar  JAINAM/TULIP DIAGNOSTICS  ...   2019-05-23        NaN\n",
              "\n",
              "[2 rows x 8 columns]"
            ]
          },
          "metadata": {
            "tags": []
          },
          "execution_count": 118
        }
      ]
    },
    {
      "cell_type": "code",
      "metadata": {
        "id": "4V4wxq1M5Pxo",
        "colab_type": "code",
        "colab": {
          "base_uri": "https://localhost:8080/",
          "height": 268
        },
        "outputId": "9df48756-3d98-4a42-cc45-2aea4d9f5921"
      },
      "source": [
        "#@title *HLL Expenses Summary-Annexure-II.xlsx (info) --Consumbles* {display-mode: \"form\"}\n",
        "dfhll_exp_sum_aII_CONSUMABLES.info(2)"
      ],
      "execution_count": 119,
      "outputs": [
        {
          "output_type": "stream",
          "text": [
            "<class 'pandas.core.frame.DataFrame'>\n",
            "RangeIndex: 181 entries, 0 to 180\n",
            "Data columns (total 8 columns):\n",
            " #   Column         Non-Null Count  Dtype         \n",
            "---  ------         --------------  -----         \n",
            " 0   Lab            180 non-null    object        \n",
            " 1   Supplier Name  180 non-null    object        \n",
            " 2   PO No.         180 non-null    object        \n",
            " 3   Invoice No     180 non-null    object        \n",
            " 4   Invoice Amt    181 non-null    int64         \n",
            " 5   Invoice Date   180 non-null    datetime64[ns]\n",
            " 6   POSTING DATE   127 non-null    datetime64[ns]\n",
            " 7   Unnamed: 7     0 non-null      float64       \n",
            "dtypes: datetime64[ns](2), float64(1), int64(1), object(4)\n",
            "memory usage: 11.4+ KB\n"
          ],
          "name": "stdout"
        }
      ]
    },
    {
      "cell_type": "code",
      "metadata": {
        "id": "5qnB-BJx2kR_",
        "colab_type": "code",
        "colab": {
          "base_uri": "https://localhost:8080/",
          "height": 107
        },
        "outputId": "eb6b9834-5928-477d-cf28-3de56de2949e"
      },
      "source": [
        "#@title *HLL Expenses Summary-Annexure-II.xlsx --Rent* {display-mode: \"form\"}\n",
        "dfhll_exp_sum_aII_RENT = dfhll_exp_sum_aII_RENT.rename(columns={'LAB LOCATION': 'Lab'})\n",
        "dfhll_exp_sum_aII_RENT.head(2)"
      ],
      "execution_count": 120,
      "outputs": [
        {
          "output_type": "execute_result",
          "data": {
            "text/html": [
              "<div>\n",
              "<style scoped>\n",
              "    .dataframe tbody tr th:only-of-type {\n",
              "        vertical-align: middle;\n",
              "    }\n",
              "\n",
              "    .dataframe tbody tr th {\n",
              "        vertical-align: top;\n",
              "    }\n",
              "\n",
              "    .dataframe thead th {\n",
              "        text-align: right;\n",
              "    }\n",
              "</style>\n",
              "<table border=\"1\" class=\"dataframe\">\n",
              "  <thead>\n",
              "    <tr style=\"text-align: right;\">\n",
              "      <th></th>\n",
              "      <th>SR .NO</th>\n",
              "      <th>Lab</th>\n",
              "      <th>OWNERS NAME</th>\n",
              "      <th>DEC</th>\n",
              "    </tr>\n",
              "  </thead>\n",
              "  <tbody>\n",
              "    <tr>\n",
              "      <th>0</th>\n",
              "      <td>1</td>\n",
              "      <td>MANCHAR</td>\n",
              "      <td>Namdev Dattatray Bende</td>\n",
              "      <td>18150</td>\n",
              "    </tr>\n",
              "    <tr>\n",
              "      <th>1</th>\n",
              "      <td>2</td>\n",
              "      <td>MANGAON</td>\n",
              "      <td>Mohammad Sharif Younus Harnekar</td>\n",
              "      <td>39930</td>\n",
              "    </tr>\n",
              "  </tbody>\n",
              "</table>\n",
              "</div>"
            ],
            "text/plain": [
              "  SR .NO      Lab                       OWNERS NAME    DEC\n",
              "0      1  MANCHAR            Namdev Dattatray Bende  18150\n",
              "1      2  MANGAON  Mohammad Sharif Younus Harnekar   39930"
            ]
          },
          "metadata": {
            "tags": []
          },
          "execution_count": 120
        }
      ]
    },
    {
      "cell_type": "code",
      "metadata": {
        "id": "6XOhKvHR5W2Q",
        "colab_type": "code",
        "colab": {
          "base_uri": "https://localhost:8080/",
          "height": 201
        },
        "outputId": "1e1b1923-8d08-4afe-a275-68f3ae53332a"
      },
      "source": [
        "#@title *HLL Expenses Summary-Annexure-II.xlsx (info)--Rent* {display-mode: \"form\"}\n",
        "dfhll_exp_sum_aII_RENT.info()"
      ],
      "execution_count": 106,
      "outputs": [
        {
          "output_type": "stream",
          "text": [
            "<class 'pandas.core.frame.DataFrame'>\n",
            "RangeIndex: 78 entries, 0 to 77\n",
            "Data columns (total 4 columns):\n",
            " #   Column       Non-Null Count  Dtype \n",
            "---  ------       --------------  ----- \n",
            " 0   SR .NO       78 non-null     object\n",
            " 1   Lab          77 non-null     object\n",
            " 2   OWNERS NAME  77 non-null     object\n",
            " 3   DEC          78 non-null     int64 \n",
            "dtypes: int64(1), object(3)\n",
            "memory usage: 2.6+ KB\n"
          ],
          "name": "stdout"
        }
      ]
    },
    {
      "cell_type": "code",
      "metadata": {
        "id": "Ete8b2T52lGA",
        "colab_type": "code",
        "colab": {
          "base_uri": "https://localhost:8080/",
          "height": 107
        },
        "outputId": "e86558f3-a9ea-4098-e4c2-859e2fbb5193"
      },
      "source": [
        "#@title *HLL Expenses Summary-Annexure-II.xlsx --Thyrocare* {display-mode: \"form\"}\n",
        "dfhll_exp_sum_aII_THYROCARE = dfhll_exp_sum_aII_THYROCARE.rename(columns={'LOCATION': 'Lab'})\n",
        "dfhll_exp_sum_aII_THYROCARE.head(2)"
      ],
      "execution_count": 121,
      "outputs": [
        {
          "output_type": "execute_result",
          "data": {
            "text/html": [
              "<div>\n",
              "<style scoped>\n",
              "    .dataframe tbody tr th:only-of-type {\n",
              "        vertical-align: middle;\n",
              "    }\n",
              "\n",
              "    .dataframe tbody tr th {\n",
              "        vertical-align: top;\n",
              "    }\n",
              "\n",
              "    .dataframe thead th {\n",
              "        text-align: right;\n",
              "    }\n",
              "</style>\n",
              "<table border=\"1\" class=\"dataframe\">\n",
              "  <thead>\n",
              "    <tr style=\"text-align: right;\">\n",
              "      <th></th>\n",
              "      <th>Sr. No.</th>\n",
              "      <th>Lab</th>\n",
              "      <th>Sum of BILLED</th>\n",
              "      <th>Unnamed: 3</th>\n",
              "    </tr>\n",
              "  </thead>\n",
              "  <tbody>\n",
              "    <tr>\n",
              "      <th>0</th>\n",
              "      <td>1</td>\n",
              "      <td>ACHALPUR</td>\n",
              "      <td>11118.01</td>\n",
              "      <td>11118.01</td>\n",
              "    </tr>\n",
              "    <tr>\n",
              "      <th>1</th>\n",
              "      <td>2</td>\n",
              "      <td>AHMEDNAGAR</td>\n",
              "      <td>15675.63</td>\n",
              "      <td>NaN</td>\n",
              "    </tr>\n",
              "  </tbody>\n",
              "</table>\n",
              "</div>"
            ],
            "text/plain": [
              "  Sr. No.         Lab  Sum of BILLED  Unnamed: 3\n",
              "0       1    ACHALPUR       11118.01    11118.01\n",
              "1       2  AHMEDNAGAR       15675.63         NaN"
            ]
          },
          "metadata": {
            "tags": []
          },
          "execution_count": 121
        }
      ]
    },
    {
      "cell_type": "code",
      "metadata": {
        "id": "JOu_O3v25kLQ",
        "colab_type": "code",
        "colab": {
          "base_uri": "https://localhost:8080/",
          "height": 201
        },
        "outputId": "85c395e0-4ec0-4d1d-ea60-e159453162c7"
      },
      "source": [
        "#@title *HLL Expenses Summary-Annexure-II.xlsx (info)--Thyrocare* {display-mode: \"form\"}\n",
        "dfhll_exp_sum_aII_THYROCARE.info()"
      ],
      "execution_count": 108,
      "outputs": [
        {
          "output_type": "stream",
          "text": [
            "<class 'pandas.core.frame.DataFrame'>\n",
            "RangeIndex: 106 entries, 0 to 105\n",
            "Data columns (total 4 columns):\n",
            " #   Column         Non-Null Count  Dtype  \n",
            "---  ------         --------------  -----  \n",
            " 0   Sr. No.        106 non-null    object \n",
            " 1   Lab            105 non-null    object \n",
            " 2   Sum of BILLED  106 non-null    float64\n",
            " 3   Unnamed: 3     94 non-null     float64\n",
            "dtypes: float64(2), object(2)\n",
            "memory usage: 3.4+ KB\n"
          ],
          "name": "stdout"
        }
      ]
    },
    {
      "cell_type": "code",
      "metadata": {
        "id": "vxA-FL2Z2lsn",
        "colab_type": "code",
        "colab": {
          "base_uri": "https://localhost:8080/",
          "height": 107
        },
        "outputId": "e1c7863a-59e2-41d7-8a13-71d173bc3768"
      },
      "source": [
        "#@title *HLL Expenses Summary-Annexure-II.xlsx --PATHOLOGIST* {display-mode: \"form\"}\n",
        "dfhll_exp_sum_aII_PATHOLOGIST = dfhll_exp_sum_aII_PATHOLOGIST.rename(columns={'Lab Name': 'Lab'})\n",
        "dfhll_exp_sum_aII_PATHOLOGIST.head(2)"
      ],
      "execution_count": 124,
      "outputs": [
        {
          "output_type": "execute_result",
          "data": {
            "text/html": [
              "<div>\n",
              "<style scoped>\n",
              "    .dataframe tbody tr th:only-of-type {\n",
              "        vertical-align: middle;\n",
              "    }\n",
              "\n",
              "    .dataframe tbody tr th {\n",
              "        vertical-align: top;\n",
              "    }\n",
              "\n",
              "    .dataframe thead th {\n",
              "        text-align: right;\n",
              "    }\n",
              "</style>\n",
              "<table border=\"1\" class=\"dataframe\">\n",
              "  <thead>\n",
              "    <tr style=\"text-align: right;\">\n",
              "      <th></th>\n",
              "      <th>Sr. No</th>\n",
              "      <th>Employee Name</th>\n",
              "      <th>Vendor Code</th>\n",
              "      <th>Designation</th>\n",
              "      <th>Lab</th>\n",
              "      <th>Salary revision if any</th>\n",
              "      <th>DEC'19</th>\n",
              "      <th>JV NO.</th>\n",
              "    </tr>\n",
              "  </thead>\n",
              "  <tbody>\n",
              "    <tr>\n",
              "      <th>0</th>\n",
              "      <td>1.0</td>\n",
              "      <td>Dr. Vijay Gawali</td>\n",
              "      <td>708358.0</td>\n",
              "      <td>Consultant Pathologist-Jawhar &amp; Sangamner</td>\n",
              "      <td>Jawhar</td>\n",
              "      <td>40000.0</td>\n",
              "      <td>80000.0</td>\n",
              "      <td>1.900201e+09</td>\n",
              "    </tr>\n",
              "    <tr>\n",
              "      <th>1</th>\n",
              "      <td>NaN</td>\n",
              "      <td>NaN</td>\n",
              "      <td>NaN</td>\n",
              "      <td>NaN</td>\n",
              "      <td>Sangamner</td>\n",
              "      <td>40000.0</td>\n",
              "      <td>NaN</td>\n",
              "      <td>NaN</td>\n",
              "    </tr>\n",
              "  </tbody>\n",
              "</table>\n",
              "</div>"
            ],
            "text/plain": [
              "   Sr. No     Employee Name  ...   DEC'19        JV NO.\n",
              "0     1.0  Dr. Vijay Gawali  ...  80000.0  1.900201e+09\n",
              "1     NaN               NaN  ...      NaN           NaN\n",
              "\n",
              "[2 rows x 8 columns]"
            ]
          },
          "metadata": {
            "tags": []
          },
          "execution_count": 124
        }
      ]
    },
    {
      "cell_type": "code",
      "metadata": {
        "id": "9M84K_jH5qhi",
        "colab_type": "code",
        "colab": {
          "base_uri": "https://localhost:8080/",
          "height": 268
        },
        "outputId": "15d40141-589b-4b44-9143-48f174119406"
      },
      "source": [
        "#@title *HLL Expenses Summary-Annexure-II.xlsx (info)--PATHOLOGIST* {display-mode: \"form\"}\n",
        "dfhll_exp_sum_aII_PATHOLOGIST.info()"
      ],
      "execution_count": 111,
      "outputs": [
        {
          "output_type": "stream",
          "text": [
            "<class 'pandas.core.frame.DataFrame'>\n",
            "RangeIndex: 142 entries, 0 to 141\n",
            "Data columns (total 8 columns):\n",
            " #   Column                  Non-Null Count  Dtype  \n",
            "---  ------                  --------------  -----  \n",
            " 0   Sr. No                  103 non-null    float64\n",
            " 1   Employee Name           103 non-null    object \n",
            " 2   Vendor Code             103 non-null    float64\n",
            " 3   Designation             103 non-null    object \n",
            " 4   Lab                     141 non-null    object \n",
            " 5   Salary revision if any  142 non-null    float64\n",
            " 6   DEC'19                  104 non-null    float64\n",
            " 7   JV NO.                  103 non-null    float64\n",
            "dtypes: float64(5), object(3)\n",
            "memory usage: 9.0+ KB\n"
          ],
          "name": "stdout"
        }
      ]
    },
    {
      "cell_type": "code",
      "metadata": {
        "id": "nJKPqaHN2ozY",
        "colab_type": "code",
        "colab": {
          "base_uri": "https://localhost:8080/",
          "height": 140
        },
        "outputId": "6ae6a057-1c7d-40f5-f1f5-aebe0e00f8bd"
      },
      "source": [
        "#@title *Lab Wise Business Report_Annexure-I.xls* {display-mode: \"form\"}\n",
        "dflab_wise_business_Ann_I = dflab_wise_business_Ann_I.rename(columns={'Lab Name': 'Lab'})\n",
        "dflab_wise_business_Ann_I.head(2)"
      ],
      "execution_count": 125,
      "outputs": [
        {
          "output_type": "execute_result",
          "data": {
            "text/html": [
              "<div>\n",
              "<style scoped>\n",
              "    .dataframe tbody tr th:only-of-type {\n",
              "        vertical-align: middle;\n",
              "    }\n",
              "\n",
              "    .dataframe tbody tr th {\n",
              "        vertical-align: top;\n",
              "    }\n",
              "\n",
              "    .dataframe thead th {\n",
              "        text-align: right;\n",
              "    }\n",
              "</style>\n",
              "<table border=\"1\" class=\"dataframe\">\n",
              "  <thead>\n",
              "    <tr style=\"text-align: right;\">\n",
              "      <th></th>\n",
              "      <th>Division Name</th>\n",
              "      <th>District Name</th>\n",
              "      <th>Lab</th>\n",
              "      <th>Total Patient</th>\n",
              "      <th>Total Special</th>\n",
              "      <th>Total Normal</th>\n",
              "      <th>TAT MET</th>\n",
              "      <th>TAT FAIL</th>\n",
              "      <th>TAT MET %</th>\n",
              "      <th>Total Revenue</th>\n",
              "      <th>Penalty(On Completed Test)</th>\n",
              "      <th>Penalty(On Pending Test)</th>\n",
              "      <th>Total Penalty</th>\n",
              "      <th>Claim Amount</th>\n",
              "      <th>RejectedPatientcount</th>\n",
              "    </tr>\n",
              "  </thead>\n",
              "  <tbody>\n",
              "    <tr>\n",
              "      <th>1</th>\n",
              "      <td>AMRAVATI</td>\n",
              "      <td>Akola</td>\n",
              "      <td>Akola</td>\n",
              "      <td>11233</td>\n",
              "      <td>1194</td>\n",
              "      <td>25331</td>\n",
              "      <td>26306</td>\n",
              "      <td>219</td>\n",
              "      <td>99.17</td>\n",
              "      <td>2066035.48</td>\n",
              "      <td>0</td>\n",
              "      <td>0</td>\n",
              "      <td>6601.80</td>\n",
              "      <td>2059433.68</td>\n",
              "      <td>0.0</td>\n",
              "    </tr>\n",
              "    <tr>\n",
              "      <th>2</th>\n",
              "      <td>AMRAVATI</td>\n",
              "      <td>Akola</td>\n",
              "      <td>Akot</td>\n",
              "      <td>2977</td>\n",
              "      <td>234</td>\n",
              "      <td>8326</td>\n",
              "      <td>8410</td>\n",
              "      <td>150</td>\n",
              "      <td>98.25</td>\n",
              "      <td>508406.90</td>\n",
              "      <td>0</td>\n",
              "      <td>0</td>\n",
              "      <td>7888.94</td>\n",
              "      <td>500517.96</td>\n",
              "      <td>0.0</td>\n",
              "    </tr>\n",
              "  </tbody>\n",
              "</table>\n",
              "</div>"
            ],
            "text/plain": [
              "  Division Name District Name  ... Claim Amount  RejectedPatientcount\n",
              "1      AMRAVATI         Akola  ...   2059433.68                   0.0\n",
              "2      AMRAVATI         Akola  ...    500517.96                   0.0\n",
              "\n",
              "[2 rows x 15 columns]"
            ]
          },
          "metadata": {
            "tags": []
          },
          "execution_count": 125
        }
      ]
    },
    {
      "cell_type": "code",
      "metadata": {
        "id": "OBVsteUO5wfg",
        "colab_type": "code",
        "colab": {
          "base_uri": "https://localhost:8080/",
          "height": 385
        },
        "outputId": "5f192e7a-2368-4cef-820f-a85f4a1cef10"
      },
      "source": [
        "#@title *Lab Wise Business Report_Annexure-I.xls (info)* {display-mode: \"form\"}\n",
        "dflab_wise_business_Ann_I.info()"
      ],
      "execution_count": 113,
      "outputs": [
        {
          "output_type": "stream",
          "text": [
            "<class 'pandas.core.frame.DataFrame'>\n",
            "Int64Index: 137 entries, 1 to 137\n",
            "Data columns (total 15 columns):\n",
            " #   Column                      Non-Null Count  Dtype  \n",
            "---  ------                      --------------  -----  \n",
            " 0   Division Name               137 non-null    object \n",
            " 1   District Name               137 non-null    object \n",
            " 2   Lab                         137 non-null    object \n",
            " 3   Total Patient               137 non-null    int64  \n",
            " 4   Total Special               137 non-null    int64  \n",
            " 5   Total Normal                137 non-null    int64  \n",
            " 6   TAT MET                     137 non-null    int64  \n",
            " 7   TAT FAIL                    137 non-null    int64  \n",
            " 8   TAT MET %                   137 non-null    float64\n",
            " 9   Total Revenue               137 non-null    float64\n",
            " 10  Penalty(On Completed Test)  137 non-null    int64  \n",
            " 11  Penalty(On Pending Test)    137 non-null    int64  \n",
            " 12  Total Penalty               137 non-null    float64\n",
            " 13  Claim Amount                137 non-null    float64\n",
            " 14  RejectedPatientcount        137 non-null    float64\n",
            "dtypes: float64(5), int64(7), object(3)\n",
            "memory usage: 17.1+ KB\n"
          ],
          "name": "stdout"
        }
      ]
    },
    {
      "cell_type": "code",
      "metadata": {
        "id": "4aQPI03A2rH5",
        "colab_type": "code",
        "colab": {
          "base_uri": "https://localhost:8080/",
          "height": 107
        },
        "outputId": "48b8e73d-f94e-4e0b-e5b1-c245ffc91bf5"
      },
      "source": [
        "#@title *Rent for Dec 19_Annexure-5.xlsx - Sheet1* {display-mode: \"form\"}\n",
        "dfRentDec19_Annexure_5 = dfRentDec19_Annexure_5.rename(columns={'Lab Location': 'Lab'})\n",
        "dfRentDec19_Annexure_5.head(2)"
      ],
      "execution_count": 126,
      "outputs": [
        {
          "output_type": "execute_result",
          "data": {
            "text/html": [
              "<div>\n",
              "<style scoped>\n",
              "    .dataframe tbody tr th:only-of-type {\n",
              "        vertical-align: middle;\n",
              "    }\n",
              "\n",
              "    .dataframe tbody tr th {\n",
              "        vertical-align: top;\n",
              "    }\n",
              "\n",
              "    .dataframe thead th {\n",
              "        text-align: right;\n",
              "    }\n",
              "</style>\n",
              "<table border=\"1\" class=\"dataframe\">\n",
              "  <thead>\n",
              "    <tr style=\"text-align: right;\">\n",
              "      <th></th>\n",
              "      <th>Sr.No.</th>\n",
              "      <th>District</th>\n",
              "      <th>Lab</th>\n",
              "      <th>Owner</th>\n",
              "      <th>Owner account details</th>\n",
              "      <th>Gross Rent</th>\n",
              "    </tr>\n",
              "  </thead>\n",
              "  <tbody>\n",
              "    <tr>\n",
              "      <th>0</th>\n",
              "      <td>1.0</td>\n",
              "      <td>Nagpur</td>\n",
              "      <td>Ramtek</td>\n",
              "      <td>Jagdish Deshmukh  9970850501</td>\n",
              "      <td>Bhushan Jagdish Deshmukh       UCO Bank, Ramte...</td>\n",
              "      <td>7502.0</td>\n",
              "    </tr>\n",
              "    <tr>\n",
              "      <th>1</th>\n",
              "      <td>2.0</td>\n",
              "      <td>Dhule</td>\n",
              "      <td>Dhule</td>\n",
              "      <td>Sangita Ramesh Patil</td>\n",
              "      <td>Sangita Ramesh Patil                   Central...</td>\n",
              "      <td>14000.0</td>\n",
              "    </tr>\n",
              "  </tbody>\n",
              "</table>\n",
              "</div>"
            ],
            "text/plain": [
              "   Sr.No.  ... Gross Rent\n",
              "0     1.0  ...     7502.0\n",
              "1     2.0  ...    14000.0\n",
              "\n",
              "[2 rows x 6 columns]"
            ]
          },
          "metadata": {
            "tags": []
          },
          "execution_count": 126
        }
      ]
    },
    {
      "cell_type": "code",
      "metadata": {
        "id": "3X1IPFV_53NQ",
        "colab_type": "code",
        "colab": {
          "base_uri": "https://localhost:8080/",
          "height": 234
        },
        "outputId": "a34ad10a-0a79-4faf-88a0-48bc40c2c680"
      },
      "source": [
        "#@title *Rent for Dec 19_Annexure-5.xlsx (info) - Sheet1* {display-mode: \"form\"}\n",
        "dfRentDec19_Annexure_5.info()"
      ],
      "execution_count": 116,
      "outputs": [
        {
          "output_type": "stream",
          "text": [
            "<class 'pandas.core.frame.DataFrame'>\n",
            "RangeIndex: 66 entries, 0 to 65\n",
            "Data columns (total 6 columns):\n",
            " #   Column                 Non-Null Count  Dtype  \n",
            "---  ------                 --------------  -----  \n",
            " 0   Sr.No.                 65 non-null     float64\n",
            " 1   District               61 non-null     object \n",
            " 2   Lab                    65 non-null     object \n",
            " 3   Owner                  65 non-null     object \n",
            " 4   Owner account details  65 non-null     object \n",
            " 5   Gross Rent             66 non-null     float64\n",
            "dtypes: float64(2), object(4)\n",
            "memory usage: 3.2+ KB\n"
          ],
          "name": "stdout"
        }
      ]
    },
    {
      "cell_type": "code",
      "metadata": {
        "id": "hqtQeSBSMw55",
        "colab_type": "code",
        "colab": {
          "base_uri": "https://localhost:8080/",
          "height": 793
        },
        "outputId": "60bfb0e2-cc7f-4e8a-af19-f34a0eb75f56"
      },
      "source": [
        "dfCostingSheet = pd.DataFrame(dflab_wise_business_Ann_I.Lab.unique(),columns=['Lab'])\n",
        "dfCostingSheet.head(25)"
      ],
      "execution_count": 174,
      "outputs": [
        {
          "output_type": "execute_result",
          "data": {
            "text/html": [
              "<div>\n",
              "<style scoped>\n",
              "    .dataframe tbody tr th:only-of-type {\n",
              "        vertical-align: middle;\n",
              "    }\n",
              "\n",
              "    .dataframe tbody tr th {\n",
              "        vertical-align: top;\n",
              "    }\n",
              "\n",
              "    .dataframe thead th {\n",
              "        text-align: right;\n",
              "    }\n",
              "</style>\n",
              "<table border=\"1\" class=\"dataframe\">\n",
              "  <thead>\n",
              "    <tr style=\"text-align: right;\">\n",
              "      <th></th>\n",
              "      <th>Lab</th>\n",
              "    </tr>\n",
              "  </thead>\n",
              "  <tbody>\n",
              "    <tr>\n",
              "      <th>0</th>\n",
              "      <td>Akola</td>\n",
              "    </tr>\n",
              "    <tr>\n",
              "      <th>1</th>\n",
              "      <td>Akot</td>\n",
              "    </tr>\n",
              "    <tr>\n",
              "      <th>2</th>\n",
              "      <td>Murtizapur</td>\n",
              "    </tr>\n",
              "    <tr>\n",
              "      <th>3</th>\n",
              "      <td>Achalpur</td>\n",
              "    </tr>\n",
              "    <tr>\n",
              "      <th>4</th>\n",
              "      <td>Amravati</td>\n",
              "    </tr>\n",
              "    <tr>\n",
              "      <th>5</th>\n",
              "      <td>Dharni</td>\n",
              "    </tr>\n",
              "    <tr>\n",
              "      <th>6</th>\n",
              "      <td>Warud</td>\n",
              "    </tr>\n",
              "    <tr>\n",
              "      <th>7</th>\n",
              "      <td>Buldhana</td>\n",
              "    </tr>\n",
              "    <tr>\n",
              "      <th>8</th>\n",
              "      <td>Khamgaon</td>\n",
              "    </tr>\n",
              "    <tr>\n",
              "      <th>9</th>\n",
              "      <td>Mehakar</td>\n",
              "    </tr>\n",
              "    <tr>\n",
              "      <th>10</th>\n",
              "      <td>Karanja</td>\n",
              "    </tr>\n",
              "    <tr>\n",
              "      <th>11</th>\n",
              "      <td>Washim</td>\n",
              "    </tr>\n",
              "    <tr>\n",
              "      <th>12</th>\n",
              "      <td>Arni</td>\n",
              "    </tr>\n",
              "    <tr>\n",
              "      <th>13</th>\n",
              "      <td>Pandharkhawad/Kelapur</td>\n",
              "    </tr>\n",
              "    <tr>\n",
              "      <th>14</th>\n",
              "      <td>Pusad</td>\n",
              "    </tr>\n",
              "    <tr>\n",
              "      <th>15</th>\n",
              "      <td>Yavatmal</td>\n",
              "    </tr>\n",
              "    <tr>\n",
              "      <th>16</th>\n",
              "      <td>Aurangabad</td>\n",
              "    </tr>\n",
              "    <tr>\n",
              "      <th>17</th>\n",
              "      <td>Kannad</td>\n",
              "    </tr>\n",
              "    <tr>\n",
              "      <th>18</th>\n",
              "      <td>Sillod</td>\n",
              "    </tr>\n",
              "    <tr>\n",
              "      <th>19</th>\n",
              "      <td>Vaijapur</td>\n",
              "    </tr>\n",
              "    <tr>\n",
              "      <th>20</th>\n",
              "      <td>Beed</td>\n",
              "    </tr>\n",
              "    <tr>\n",
              "      <th>21</th>\n",
              "      <td>Manjlegaon</td>\n",
              "    </tr>\n",
              "    <tr>\n",
              "      <th>22</th>\n",
              "      <td>Parali</td>\n",
              "    </tr>\n",
              "    <tr>\n",
              "      <th>23</th>\n",
              "      <td>Hingoli</td>\n",
              "    </tr>\n",
              "    <tr>\n",
              "      <th>24</th>\n",
              "      <td>Jafrabad</td>\n",
              "    </tr>\n",
              "  </tbody>\n",
              "</table>\n",
              "</div>"
            ],
            "text/plain": [
              "                      Lab\n",
              "0                   Akola\n",
              "1                   Akot \n",
              "2              Murtizapur\n",
              "3                Achalpur\n",
              "4                Amravati\n",
              "5                  Dharni\n",
              "6                   Warud\n",
              "7                Buldhana\n",
              "8                Khamgaon\n",
              "9                 Mehakar\n",
              "10                Karanja\n",
              "11                 Washim\n",
              "12                   Arni\n",
              "13  Pandharkhawad/Kelapur\n",
              "14                  Pusad\n",
              "15               Yavatmal\n",
              "16             Aurangabad\n",
              "17                 Kannad\n",
              "18                 Sillod\n",
              "19               Vaijapur\n",
              "20                   Beed\n",
              "21             Manjlegaon\n",
              "22                 Parali\n",
              "23                Hingoli\n",
              "24               Jafrabad"
            ]
          },
          "metadata": {
            "tags": []
          },
          "execution_count": 174
        }
      ]
    }
  ]
}