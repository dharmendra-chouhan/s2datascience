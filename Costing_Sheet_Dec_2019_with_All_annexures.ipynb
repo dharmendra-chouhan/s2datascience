{
  "nbformat": 4,
  "nbformat_minor": 0,
  "metadata": {
    "colab": {
      "name": "Costing Sheet-Dec 2019 with All annexures.ipynb",
      "provenance": [],
      "collapsed_sections": [],
      "authorship_tag": "ABX9TyNsiQiVUyfFIKdqXr7xPUqH",
      "include_colab_link": true
    },
    "kernelspec": {
      "name": "python3",
      "display_name": "Python 3"
    }
  },
  "cells": [
    {
      "cell_type": "markdown",
      "metadata": {
        "id": "view-in-github",
        "colab_type": "text"
      },
      "source": [
        "<a href=\"https://colab.research.google.com/github/dharmendra-chouhan/s2datascience/blob/master/Costing_Sheet_Dec_2019_with_All_annexures.ipynb\" target=\"_parent\"><img src=\"https://colab.research.google.com/assets/colab-badge.svg\" alt=\"Open In Colab\"/></a>"
      ]
    },
    {
      "cell_type": "code",
      "metadata": {
        "id": "IJG2bATQaurv"
      },
      "source": [
        "#@title *Read a Excel file from a Google drive** {display-mode: \"form\"}\n",
        "!pip install -U -q PyDrive\n",
        "from pydrive.auth import GoogleAuth\n",
        "from pydrive.drive import GoogleDrive\n",
        "from google.colab import auth\n",
        "from oauth2client.client import GoogleCredentials\n",
        "\n",
        "# 1. Authenticate and create the PyDrive client.\n",
        "auth.authenticate_user()\n",
        "gauth = GoogleAuth()\n",
        "gauth.credentials = GoogleCredentials.get_application_default()\n",
        "drive = GoogleDrive(gauth)\n",
        "\n",
        "#2. Get the file Cosolidated sheet for Dec 2019_Annexure-3.xlsx\n",
        "downloaded = drive.CreateFile({'id':'1c_dTYm16Vp9JhvB2EUu8A7x0E6869Vtj'}) # replace the id with id of file you want to access\n",
        "downloaded.GetContentFile('Cosolidated sheet for Dec 2019_Annexure-3.xlsx')  \n",
        "\n",
        "# HLL Expenses Summary-Annexure-II.xlsx\n",
        "downloaded = drive.CreateFile({'id':'1NaFIGXdD7WMiMIpjkkNSCi2m4YOtSIR9'}) # replace the id with id of file you want to access\n",
        "downloaded.GetContentFile('HLL Expenses Summary-Annexure-II.xlsx')\n",
        "\n",
        "# Lab Wise Business Report_Annexure-I.xls\n",
        "downloaded = drive.CreateFile({'id':'1W31V3JFrzJDpcOIOHlpCY6ETrfxTU5Ue'}) # replace the id with id of file you want to access\n",
        "downloaded.GetContentFile('Lab Wise Business Report_Annexure-I.xls')\n",
        "\n",
        "# Rent for Dec 19_Annexure-5.xlsx\n",
        "downloaded = drive.CreateFile({'id':'1-UvqUpH-2pZV9_MS97Fuetp5E26U72VH'}) # replace the id with id of file you want to access\n",
        "downloaded.GetContentFile('Rent for Dec 19_Annexure-5.xlsx')\n",
        "\n",
        "import pandas as pd\n",
        "\n",
        "#3. Read file as panda dataframe \n",
        "\n",
        "# Cosolidated sheet for Dec 2019_Annexure-3.xlsx\n",
        "dfCosolidated_sheet_for_Dec_2019_Annexure_3 =  pd.read_excel('Cosolidated sheet for Dec 2019_Annexure-3.xlsx', sheet_name='Sheet1', skiprows=1)\n",
        "\n",
        "# HLL Expenses Summary-Annexure-II.xlsx\n",
        "dfhll_exp_sum_aII_CONSUMABLES =  pd.read_excel('HLL Expenses Summary-Annexure-II.xlsx', sheet_name='CONSUMABLES', skiprows=1)\n",
        "dfhll_exp_sum_aII_RENT =  pd.read_excel('HLL Expenses Summary-Annexure-II.xlsx', sheet_name='RENT', skiprows=1)\n",
        "dfhll_exp_sum_aII_THYROCARE =  pd.read_excel('HLL Expenses Summary-Annexure-II.xlsx', sheet_name='THYROCARE', skiprows=1)\n",
        "dfhll_exp_sum_aII_PATHOLOGIST =  pd.read_excel('HLL Expenses Summary-Annexure-II.xlsx', sheet_name='PATHOLOGIST', skiprows=1)\n",
        "\n",
        "# Lab Wise Business Report_Annexure-I.xls\n",
        "dflab_wise_business_Ann_I =  pd.read_excel('Lab Wise Business Report_Annexure-I.xls')\n",
        "dflab_wise_business_Ann_I=dflab_wise_business_Ann_I.drop([0])\n",
        "\n",
        "# Rent for Dec 19_Annexure-5.xlsx\n",
        "dfRentDec19_Annexure_5 =  pd.read_excel('Rent for Dec 19_Annexure-5.xlsx', sheet_name='Sheet1', skiprows=2)"
      ],
      "execution_count": null,
      "outputs": []
    },
    {
      "cell_type": "markdown",
      "metadata": {
        "id": "U4LjiSQHzfJw"
      },
      "source": [
        "# DataFrame EXCEL sheet wise\n",
        "\n",
        "```\n",
        "# Cosolidated sheet for Dec 2019_Annexure-3.xlsx\n",
        "  1. dfCosolidated_sheet_for_Dec_2019_Annexure_3\n",
        "```\n",
        "```\n",
        "# HLL Expenses Summary-Annexure-II.xlsx\n",
        "  2. dfhll_exp_sum_aII_CONSUMABLES\n",
        "  3. dfhll_exp_sum_aII_RENT\n",
        "  4. dfhll_exp_sum_aII_THYROCARE\n",
        "  5. dfhll_exp_sum_aII_PATHOLOGIST\n",
        "```\n",
        "```\n",
        "# Lab Wise Business Report_Annexure-I.xls\n",
        "  6. dflab_wise_business_Ann_I\n",
        "```\n",
        "```\n",
        "# Rent for Dec 19_Annexure-5.xlsx\n",
        "  7.dfRentDec19_Annexure_5\n",
        "```"
      ]
    },
    {
      "cell_type": "code",
      "metadata": {
        "id": "bu2mtext2i-h",
        "outputId": "3f1443d9-4b29-45c3-e444-a502fc628724",
        "colab": {
          "base_uri": "https://localhost:8080/",
          "height": 17
        }
      },
      "source": [
        "#@title *Generating an Excel file * {display-mode: \"form\"}\n",
        "dfhll_exp_sum_aII_CONSUMABLES = dfhll_exp_sum_aII_CONSUMABLES.rename(columns={'Location': 'Lab'})\n",
        "dfhll_exp_sum_aII_RENT = dfhll_exp_sum_aII_RENT.rename(columns={'LAB LOCATION': 'Lab'})\n",
        "dfhll_exp_sum_aII_THYROCARE = dfhll_exp_sum_aII_THYROCARE.rename(columns={'LOCATION': 'Lab'})\n",
        "dfhll_exp_sum_aII_PATHOLOGIST = dfhll_exp_sum_aII_PATHOLOGIST.rename(columns={'Lab Name': 'Lab'})\n",
        "dflab_wise_business_Ann_I = dflab_wise_business_Ann_I.rename(columns={'Lab Name': 'Lab'})\n",
        "dfRentDec19_Annexure_5 = dfRentDec19_Annexure_5.rename(columns={'Lab Location': 'Lab'})\n",
        "\n",
        "#dfCosolidated_sheet_for_Dec_2019_Annexure_3['District'] = dfCosolidated_sheet_for_Dec_2019_Annexure_3['District'].str.upper() \n",
        "#dfCosolidated_sheet_for_Dec_2019_Annexure_3['Lab'] = dfCosolidated_sheet_for_Dec_2019_Annexure_3['Lab'].str.upper() \n",
        "#dfCostingSheet=dfCosolidated_sheet_for_Dec_2019_Annexure_3.drop_duplicates(['District','Lab'])[['District','Lab']]\n",
        "#dfCostingSheet= dfCostingSheet.dropna()\n",
        "#dfCostingSheet.info()\n",
        "\n",
        "#pd.set_option('display.max_rows', dfCostingSheet.shape[0]+1)\n",
        "#dfCostingSheet.sort_values(\"Lab\", axis = 0, ascending = True,  inplace = True, na_position ='last')\n",
        "#dfCostingSheet.reset_index(drop=True, inplace=True)\n",
        "#print(dfCostingSheet)\n",
        "\n",
        "#dflab_wise_business_Ann_I['Lab'] = dflab_wise_business_Ann_I['Lab'].str.upper() \n",
        "#dfCostingSheet1=dfCostingSheet.merge(dflab_wise_business_Ann_I, on=['Lab'])[['District','Lab','Total Revenue']]\n",
        "\n",
        "\n",
        "\n",
        "# Cosolidated sheet for Dec 2019_Annexure-3.xlsx\n",
        "  #  1. dfCosolidated_sheet_for_Dec_2019_Annexure_3\n",
        "dfCosolidated_sheet_for_Dec_2019_Annexure_3['Lab'] = dfCosolidated_sheet_for_Dec_2019_Annexure_3['Lab'].str.upper()\n",
        "# HLL Expenses Summary-Annexure-II.xlsx\n",
        "  #   2. dfhll_exp_sum_aII_CONSUMABLES\n",
        "dfhll_exp_sum_aII_CONSUMABLES['Lab'] = dfhll_exp_sum_aII_CONSUMABLES['Lab'].str.upper()\n",
        "  #   3. dfhll_exp_sum_aII_RENT\n",
        "dfhll_exp_sum_aII_RENT['Lab'] = dfhll_exp_sum_aII_RENT['Lab'].str.upper()\n",
        "  #   4. dfhll_exp_sum_aII_THYROCARE\n",
        "dfhll_exp_sum_aII_THYROCARE['Lab'] = dfhll_exp_sum_aII_THYROCARE['Lab'].str.upper()\n",
        "  #   5. dfhll_exp_sum_aII_PATHOLOGIST\n",
        "dfhll_exp_sum_aII_PATHOLOGIST['Lab'] = dfhll_exp_sum_aII_PATHOLOGIST['Lab'].str.upper()\n",
        "# Lab Wise Business Report_Annexure-I.xls\n",
        "  #   6. dflab_wise_business_Ann_I\n",
        "dflab_wise_business_Ann_I['Lab'] = dflab_wise_business_Ann_I['Lab'].str.upper()\n",
        "\n",
        "# Rent for Dec 19_Annexure-5.xlsx\n",
        "  #   7.dfRentDec19_Annexure_5\n",
        "dfRentDec19_Annexure_5['Lab'] = dfRentDec19_Annexure_5['Lab'].str.upper()\n",
        "\n",
        "from google.colab import files\n",
        "import pandas as pd\n",
        "CostingSheet = pd.merge(dfCosolidated_sheet_for_Dec_2019_Annexure_3, dfhll_exp_sum_aII_CONSUMABLES, how='left', left_on='Lab', right_on='Lab')\n",
        "CostingSheet = pd.merge(CostingSheet, dfhll_exp_sum_aII_RENT, how='left', left_on='Lab', right_on='Lab')\n",
        "CostingSheet = pd.merge(CostingSheet, dfhll_exp_sum_aII_THYROCARE, how='left', left_on='Lab', right_on='Lab')\n",
        "CostingSheet = pd.merge(CostingSheet, dfhll_exp_sum_aII_PATHOLOGIST, how='left', left_on='Lab', right_on='Lab')\n",
        "CostingSheet = pd.merge(CostingSheet, dflab_wise_business_Ann_I, how='left', left_on='Lab', right_on='Lab')\n",
        "CostingSheet = pd.merge(CostingSheet, dfRentDec19_Annexure_5, how='left', left_on='Lab', right_on='Lab')\n",
        "CostingSheet.drop_duplicates(keep=False,inplace=True) \n",
        "CostingSheet.to_excel('CostingSheet.xlsx', sheet_name='dfCostingSheet')\n",
        "files.download('CostingSheet.xlsx')\n",
        "\n"
      ],
      "execution_count": null,
      "outputs": [
        {
          "output_type": "display_data",
          "data": {
            "application/javascript": [
              "\n",
              "    async function download(id, filename, size) {\n",
              "      if (!google.colab.kernel.accessAllowed) {\n",
              "        return;\n",
              "      }\n",
              "      const div = document.createElement('div');\n",
              "      const label = document.createElement('label');\n",
              "      label.textContent = `Downloading \"${filename}\": `;\n",
              "      div.appendChild(label);\n",
              "      const progress = document.createElement('progress');\n",
              "      progress.max = size;\n",
              "      div.appendChild(progress);\n",
              "      document.body.appendChild(div);\n",
              "\n",
              "      const buffers = [];\n",
              "      let downloaded = 0;\n",
              "\n",
              "      const channel = await google.colab.kernel.comms.open(id);\n",
              "      // Send a message to notify the kernel that we're ready.\n",
              "      channel.send({})\n",
              "\n",
              "      for await (const message of channel.messages) {\n",
              "        // Send a message to notify the kernel that we're ready.\n",
              "        channel.send({})\n",
              "        if (message.buffers) {\n",
              "          for (const buffer of message.buffers) {\n",
              "            buffers.push(buffer);\n",
              "            downloaded += buffer.byteLength;\n",
              "            progress.value = downloaded;\n",
              "          }\n",
              "        }\n",
              "      }\n",
              "      const blob = new Blob(buffers, {type: 'application/binary'});\n",
              "      const a = document.createElement('a');\n",
              "      a.href = window.URL.createObjectURL(blob);\n",
              "      a.download = filename;\n",
              "      div.appendChild(a);\n",
              "      a.click();\n",
              "      div.remove();\n",
              "    }\n",
              "  "
            ],
            "text/plain": [
              "<IPython.core.display.Javascript object>"
            ]
          },
          "metadata": {
            "tags": []
          }
        },
        {
          "output_type": "display_data",
          "data": {
            "application/javascript": [
              "download(\"download_291e207f-af0c-4a06-a1e1-a42d75dd11cf\", \"CostingSheet.xlsx\", 3192948)"
            ],
            "text/plain": [
              "<IPython.core.display.Javascript object>"
            ]
          },
          "metadata": {
            "tags": []
          }
        }
      ]
    }
  ]
}