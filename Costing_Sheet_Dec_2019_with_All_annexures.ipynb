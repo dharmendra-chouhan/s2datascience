{
  "nbformat": 4,
  "nbformat_minor": 0,
  "metadata": {
    "colab": {
      "name": "Costing Sheet-Dec 2019 with All annexures.ipynb",
      "provenance": [],
      "collapsed_sections": [],
      "authorship_tag": "ABX9TyMWeVEpeAwPq3EG+aHXekol",
      "include_colab_link": true
    },
    "kernelspec": {
      "name": "python3",
      "display_name": "Python 3"
    }
  },
  "cells": [
    {
      "cell_type": "markdown",
      "metadata": {
        "id": "view-in-github",
        "colab_type": "text"
      },
      "source": [
        "<a href=\"https://colab.research.google.com/github/dharmendra-chouhan/s2datascience/blob/master/Costing_Sheet_Dec_2019_with_All_annexures.ipynb\" target=\"_parent\"><img src=\"https://colab.research.google.com/assets/colab-badge.svg\" alt=\"Open In Colab\"/></a>"
      ]
    },
    {
      "cell_type": "code",
      "metadata": {
        "id": "IJG2bATQaurv",
        "colab_type": "code",
        "colab": {}
      },
      "source": [
        "#@title *Read a Excel file from a Google drive** {display-mode: \"form\"}\n",
        "!pip install -U -q PyDrive\n",
        "from pydrive.auth import GoogleAuth\n",
        "from pydrive.drive import GoogleDrive\n",
        "from google.colab import auth\n",
        "from oauth2client.client import GoogleCredentials\n",
        "\n",
        "# 1. Authenticate and create the PyDrive client.\n",
        "auth.authenticate_user()\n",
        "gauth = GoogleAuth()\n",
        "gauth.credentials = GoogleCredentials.get_application_default()\n",
        "drive = GoogleDrive(gauth)\n",
        "\n",
        "#2. Get the file Cosolidated sheet for Dec 2019_Annexure-3.xlsx\n",
        "downloaded = drive.CreateFile({'id':'1c_dTYm16Vp9JhvB2EUu8A7x0E6869Vtj'}) # replace the id with id of file you want to access\n",
        "downloaded.GetContentFile('Cosolidated sheet for Dec 2019_Annexure-3.xlsx')  \n",
        "\n",
        "# HLL Expenses Summary-Annexure-II.xlsx\n",
        "downloaded = drive.CreateFile({'id':'1NaFIGXdD7WMiMIpjkkNSCi2m4YOtSIR9'}) # replace the id with id of file you want to access\n",
        "downloaded.GetContentFile('HLL Expenses Summary-Annexure-II.xlsx')\n",
        "\n",
        "# Lab Wise Business Report_Annexure-I.xls\n",
        "downloaded = drive.CreateFile({'id':'1W31V3JFrzJDpcOIOHlpCY6ETrfxTU5Ue'}) # replace the id with id of file you want to access\n",
        "downloaded.GetContentFile('Lab Wise Business Report_Annexure-I.xls')\n",
        "\n",
        "# Rent for Dec 19_Annexure-5.xlsx\n",
        "downloaded = drive.CreateFile({'id':'1-UvqUpH-2pZV9_MS97Fuetp5E26U72VH'}) # replace the id with id of file you want to access\n",
        "downloaded.GetContentFile('Rent for Dec 19_Annexure-5.xlsx')\n",
        "\n",
        "import pandas as pd\n",
        "\n",
        "#3. Read file as panda dataframe \n",
        "\n",
        "# Cosolidated sheet for Dec 2019_Annexure-3.xlsx\n",
        "dfCosolidated_sheet_for_Dec_2019_Annexure_3 =  pd.read_excel('Cosolidated sheet for Dec 2019_Annexure-3.xlsx', sheet_name='Sheet1', skiprows=1)\n",
        "\n",
        "# HLL Expenses Summary-Annexure-II.xlsx\n",
        "dfhll_exp_sum_aII_CONSUMABLES =  pd.read_excel('HLL Expenses Summary-Annexure-II.xlsx', sheet_name='CONSUMABLES', skiprows=1)\n",
        "dfhll_exp_sum_aII_RENT =  pd.read_excel('HLL Expenses Summary-Annexure-II.xlsx', sheet_name='RENT', skiprows=1)\n",
        "dfhll_exp_sum_aII_THYROCARE =  pd.read_excel('HLL Expenses Summary-Annexure-II.xlsx', sheet_name='THYROCARE', skiprows=1)\n",
        "dfhll_exp_sum_aII_PATHOLOGIST =  pd.read_excel('HLL Expenses Summary-Annexure-II.xlsx', sheet_name='PATHOLOGIST', skiprows=1)\n",
        "\n",
        "# Lab Wise Business Report_Annexure-I.xls\n",
        "dflab_wise_business_Ann_I =  pd.read_excel('Lab Wise Business Report_Annexure-I.xls')\n",
        "dflab_wise_business_Ann_I=dflab_wise_business_Ann_I.drop([0])\n",
        "\n",
        "# Rent for Dec 19_Annexure-5.xlsx\n",
        "dfRentDec19_Annexure_5 =  pd.read_excel('Rent for Dec 19_Annexure-5.xlsx', sheet_name='Sheet1', skiprows=2)"
      ],
      "execution_count": 3,
      "outputs": []
    },
    {
      "cell_type": "markdown",
      "metadata": {
        "id": "U4LjiSQHzfJw",
        "colab_type": "text"
      },
      "source": [
        "# Datafram EXCEL sheet wise\n",
        "\n",
        "```\n",
        "# Cosolidated sheet for Dec 2019_Annexure-3.xlsx\n",
        "  1. dfCosolidated_sheet_for_Dec_2019_Annexure_3\n",
        "```\n",
        "```\n",
        "# HLL Expenses Summary-Annexure-II.xlsx\n",
        "  2. dfhll_exp_sum_aII_CONSUMABLES\n",
        "  3. dfhll_exp_sum_aII_RENT\n",
        "  4. dfhll_exp_sum_aII_THYROCARE\n",
        "  5. dfhll_exp_sum_aII_PATHOLOGIST\n",
        "```\n",
        "```\n",
        "# Lab Wise Business Report_Annexure-I.xls\n",
        "  6. dflab_wise_business_Ann_I\n",
        "```\n",
        "```\n",
        "# Rent for Dec 19_Annexure-5.xlsx\n",
        "  7.dfRentDec19_Annexure_5\n",
        "```"
      ]
    },
    {
      "cell_type": "code",
      "metadata": {
        "id": "tSvFG4Nx2W1B",
        "colab_type": "code",
        "colab": {
          "base_uri": "https://localhost:8080/",
          "height": 107
        },
        "outputId": "06b5b994-544d-40e3-83a0-646bb21b391d"
      },
      "source": [
        "#@title *Cosolidated sheet for Dec 2019_Annexure-3.xlsx* {display-mode: \"form\"}\n",
        "dfCosolidated_sheet_for_Dec_2019_Annexure_3.head(2)"
      ],
      "execution_count": 4,
      "outputs": [
        {
          "output_type": "execute_result",
          "data": {
            "text/html": [
              "<div>\n",
              "<style scoped>\n",
              "    .dataframe tbody tr th:only-of-type {\n",
              "        vertical-align: middle;\n",
              "    }\n",
              "\n",
              "    .dataframe tbody tr th {\n",
              "        vertical-align: top;\n",
              "    }\n",
              "\n",
              "    .dataframe thead th {\n",
              "        text-align: right;\n",
              "    }\n",
              "</style>\n",
              "<table border=\"1\" class=\"dataframe\">\n",
              "  <thead>\n",
              "    <tr style=\"text-align: right;\">\n",
              "      <th></th>\n",
              "      <th>Sr No.</th>\n",
              "      <th>User ID</th>\n",
              "      <th>Designation</th>\n",
              "      <th>District</th>\n",
              "      <th>Lab</th>\n",
              "      <th>Resource Name</th>\n",
              "      <th>Work From date</th>\n",
              "      <th>Total Pay</th>\n",
              "    </tr>\n",
              "  </thead>\n",
              "  <tbody>\n",
              "    <tr>\n",
              "      <th>0</th>\n",
              "      <td>1.0</td>\n",
              "      <td>9332.0</td>\n",
              "      <td>Collection Boy</td>\n",
              "      <td>AHMEDNAGAR</td>\n",
              "      <td>shrigonda</td>\n",
              "      <td>Rashtrabhushan Ghodake</td>\n",
              "      <td>15/02/2019</td>\n",
              "      <td>8000.0</td>\n",
              "    </tr>\n",
              "    <tr>\n",
              "      <th>1</th>\n",
              "      <td>2.0</td>\n",
              "      <td>9485.0</td>\n",
              "      <td>Collection Boy</td>\n",
              "      <td>AKOLA</td>\n",
              "      <td>Akola</td>\n",
              "      <td>Shantram Ratan Jadhav</td>\n",
              "      <td>05/03/2019</td>\n",
              "      <td>7500.0</td>\n",
              "    </tr>\n",
              "  </tbody>\n",
              "</table>\n",
              "</div>"
            ],
            "text/plain": [
              "   Sr No.  User ID  ... Work From date Total Pay\n",
              "0     1.0   9332.0  ...     15/02/2019    8000.0\n",
              "1     2.0   9485.0  ...     05/03/2019    7500.0\n",
              "\n",
              "[2 rows x 8 columns]"
            ]
          },
          "metadata": {
            "tags": []
          },
          "execution_count": 4
        }
      ]
    },
    {
      "cell_type": "code",
      "metadata": {
        "id": "0AhWb2qk4__I",
        "colab_type": "code",
        "colab": {
          "base_uri": "https://localhost:8080/",
          "height": 268
        },
        "outputId": "f19b5495-9631-4767-e042-e3074f640850"
      },
      "source": [
        "#@title *Cosolidated sheet for Dec 2019_Annexure-3.xlsx(info)* {display-mode: \"form\"}\n",
        "dfCosolidated_sheet_for_Dec_2019_Annexure_3.info()"
      ],
      "execution_count": 5,
      "outputs": [
        {
          "output_type": "stream",
          "text": [
            "<class 'pandas.core.frame.DataFrame'>\n",
            "RangeIndex: 3345 entries, 0 to 3344\n",
            "Data columns (total 8 columns):\n",
            " #   Column          Non-Null Count  Dtype  \n",
            "---  ------          --------------  -----  \n",
            " 0   Sr No.          3339 non-null   float64\n",
            " 1   User ID         3339 non-null   float64\n",
            " 2   Designation     3339 non-null   object \n",
            " 3   District        3339 non-null   object \n",
            " 4   Lab             3339 non-null   object \n",
            " 5   Resource Name   3341 non-null   object \n",
            " 6   Work From date  3340 non-null   object \n",
            " 7   Total Pay       3343 non-null   float64\n",
            "dtypes: float64(3), object(5)\n",
            "memory usage: 209.2+ KB\n"
          ],
          "name": "stdout"
        }
      ]
    },
    {
      "cell_type": "code",
      "metadata": {
        "id": "bu2mtext2i-h",
        "colab_type": "code",
        "colab": {
          "base_uri": "https://localhost:8080/",
          "height": 107
        },
        "outputId": "ae62494d-1660-467a-cd9f-6032bd727402"
      },
      "source": [
        "#@title *HLL Expenses Summary-Annexure-II.xlsx --Consumbles* {display-mode: \"form\"}\n",
        "dfhll_exp_sum_aII_CONSUMABLES = dfhll_exp_sum_aII_CONSUMABLES.rename(columns={'Location': 'Lab'})\n",
        "dfhll_exp_sum_aII_CONSUMABLES.head(2)"
      ],
      "execution_count": 6,
      "outputs": [
        {
          "output_type": "execute_result",
          "data": {
            "text/html": [
              "<div>\n",
              "<style scoped>\n",
              "    .dataframe tbody tr th:only-of-type {\n",
              "        vertical-align: middle;\n",
              "    }\n",
              "\n",
              "    .dataframe tbody tr th {\n",
              "        vertical-align: top;\n",
              "    }\n",
              "\n",
              "    .dataframe thead th {\n",
              "        text-align: right;\n",
              "    }\n",
              "</style>\n",
              "<table border=\"1\" class=\"dataframe\">\n",
              "  <thead>\n",
              "    <tr style=\"text-align: right;\">\n",
              "      <th></th>\n",
              "      <th>Lab</th>\n",
              "      <th>Supplier Name</th>\n",
              "      <th>PO No.</th>\n",
              "      <th>Invoice No</th>\n",
              "      <th>Invoice Amt</th>\n",
              "      <th>Invoice Date</th>\n",
              "      <th>POSTING DATE</th>\n",
              "      <th>Unnamed: 7</th>\n",
              "    </tr>\n",
              "  </thead>\n",
              "  <tbody>\n",
              "    <tr>\n",
              "      <th>0</th>\n",
              "      <td>Kharghar</td>\n",
              "      <td>JAINAM/TULIP DIAGNOSTICS</td>\n",
              "      <td>538</td>\n",
              "      <td>SI/878</td>\n",
              "      <td>88158</td>\n",
              "      <td>2019-05-04</td>\n",
              "      <td>2019-05-23</td>\n",
              "      <td>NaN</td>\n",
              "    </tr>\n",
              "    <tr>\n",
              "      <th>1</th>\n",
              "      <td>Kharghar</td>\n",
              "      <td>JAINAM/TULIP DIAGNOSTICS</td>\n",
              "      <td>538</td>\n",
              "      <td>SI/879</td>\n",
              "      <td>86286</td>\n",
              "      <td>2019-05-04</td>\n",
              "      <td>2019-05-23</td>\n",
              "      <td>NaN</td>\n",
              "    </tr>\n",
              "  </tbody>\n",
              "</table>\n",
              "</div>"
            ],
            "text/plain": [
              "        Lab             Supplier Name  ... POSTING DATE Unnamed: 7\n",
              "0  Kharghar  JAINAM/TULIP DIAGNOSTICS  ...   2019-05-23        NaN\n",
              "1  Kharghar  JAINAM/TULIP DIAGNOSTICS  ...   2019-05-23        NaN\n",
              "\n",
              "[2 rows x 8 columns]"
            ]
          },
          "metadata": {
            "tags": []
          },
          "execution_count": 6
        }
      ]
    },
    {
      "cell_type": "code",
      "metadata": {
        "id": "4V4wxq1M5Pxo",
        "colab_type": "code",
        "colab": {
          "base_uri": "https://localhost:8080/",
          "height": 268
        },
        "outputId": "5ca33428-18ab-4c3b-e4bc-e3cce3a80c5b"
      },
      "source": [
        "#@title *HLL Expenses Summary-Annexure-II.xlsx (info) --Consumbles* {display-mode: \"form\"}\n",
        "dfhll_exp_sum_aII_CONSUMABLES.info(2)"
      ],
      "execution_count": 7,
      "outputs": [
        {
          "output_type": "stream",
          "text": [
            "<class 'pandas.core.frame.DataFrame'>\n",
            "RangeIndex: 181 entries, 0 to 180\n",
            "Data columns (total 8 columns):\n",
            " #   Column         Non-Null Count  Dtype         \n",
            "---  ------         --------------  -----         \n",
            " 0   Lab            180 non-null    object        \n",
            " 1   Supplier Name  180 non-null    object        \n",
            " 2   PO No.         180 non-null    object        \n",
            " 3   Invoice No     180 non-null    object        \n",
            " 4   Invoice Amt    181 non-null    int64         \n",
            " 5   Invoice Date   180 non-null    datetime64[ns]\n",
            " 6   POSTING DATE   127 non-null    datetime64[ns]\n",
            " 7   Unnamed: 7     0 non-null      float64       \n",
            "dtypes: datetime64[ns](2), float64(1), int64(1), object(4)\n",
            "memory usage: 11.4+ KB\n"
          ],
          "name": "stdout"
        }
      ]
    },
    {
      "cell_type": "code",
      "metadata": {
        "id": "5qnB-BJx2kR_",
        "colab_type": "code",
        "colab": {
          "base_uri": "https://localhost:8080/",
          "height": 107
        },
        "outputId": "9645099f-9e62-4907-fdcf-06d0778eb421"
      },
      "source": [
        "#@title *HLL Expenses Summary-Annexure-II.xlsx --Rent* {display-mode: \"form\"}\n",
        "dfhll_exp_sum_aII_RENT = dfhll_exp_sum_aII_RENT.rename(columns={'LAB LOCATION': 'Lab'})\n",
        "dfhll_exp_sum_aII_RENT.head(2)"
      ],
      "execution_count": 8,
      "outputs": [
        {
          "output_type": "execute_result",
          "data": {
            "text/html": [
              "<div>\n",
              "<style scoped>\n",
              "    .dataframe tbody tr th:only-of-type {\n",
              "        vertical-align: middle;\n",
              "    }\n",
              "\n",
              "    .dataframe tbody tr th {\n",
              "        vertical-align: top;\n",
              "    }\n",
              "\n",
              "    .dataframe thead th {\n",
              "        text-align: right;\n",
              "    }\n",
              "</style>\n",
              "<table border=\"1\" class=\"dataframe\">\n",
              "  <thead>\n",
              "    <tr style=\"text-align: right;\">\n",
              "      <th></th>\n",
              "      <th>SR .NO</th>\n",
              "      <th>Lab</th>\n",
              "      <th>OWNERS NAME</th>\n",
              "      <th>DEC</th>\n",
              "    </tr>\n",
              "  </thead>\n",
              "  <tbody>\n",
              "    <tr>\n",
              "      <th>0</th>\n",
              "      <td>1</td>\n",
              "      <td>MANCHAR</td>\n",
              "      <td>Namdev Dattatray Bende</td>\n",
              "      <td>18150</td>\n",
              "    </tr>\n",
              "    <tr>\n",
              "      <th>1</th>\n",
              "      <td>2</td>\n",
              "      <td>MANGAON</td>\n",
              "      <td>Mohammad Sharif Younus Harnekar</td>\n",
              "      <td>39930</td>\n",
              "    </tr>\n",
              "  </tbody>\n",
              "</table>\n",
              "</div>"
            ],
            "text/plain": [
              "  SR .NO      Lab                       OWNERS NAME    DEC\n",
              "0      1  MANCHAR            Namdev Dattatray Bende  18150\n",
              "1      2  MANGAON  Mohammad Sharif Younus Harnekar   39930"
            ]
          },
          "metadata": {
            "tags": []
          },
          "execution_count": 8
        }
      ]
    },
    {
      "cell_type": "code",
      "metadata": {
        "id": "6XOhKvHR5W2Q",
        "colab_type": "code",
        "colab": {
          "base_uri": "https://localhost:8080/",
          "height": 201
        },
        "outputId": "2dc83658-245b-4a28-f089-9b78d5879975"
      },
      "source": [
        "#@title *HLL Expenses Summary-Annexure-II.xlsx (info)--Rent* {display-mode: \"form\"}\n",
        "dfhll_exp_sum_aII_RENT.info()"
      ],
      "execution_count": 9,
      "outputs": [
        {
          "output_type": "stream",
          "text": [
            "<class 'pandas.core.frame.DataFrame'>\n",
            "RangeIndex: 78 entries, 0 to 77\n",
            "Data columns (total 4 columns):\n",
            " #   Column       Non-Null Count  Dtype \n",
            "---  ------       --------------  ----- \n",
            " 0   SR .NO       78 non-null     object\n",
            " 1   Lab          77 non-null     object\n",
            " 2   OWNERS NAME  77 non-null     object\n",
            " 3   DEC          78 non-null     int64 \n",
            "dtypes: int64(1), object(3)\n",
            "memory usage: 2.6+ KB\n"
          ],
          "name": "stdout"
        }
      ]
    },
    {
      "cell_type": "code",
      "metadata": {
        "id": "Ete8b2T52lGA",
        "colab_type": "code",
        "colab": {
          "base_uri": "https://localhost:8080/",
          "height": 107
        },
        "outputId": "b1dd259e-e6bb-481c-ab20-144a577aeef4"
      },
      "source": [
        "#@title *HLL Expenses Summary-Annexure-II.xlsx --Thyrocare* {display-mode: \"form\"}\n",
        "dfhll_exp_sum_aII_THYROCARE = dfhll_exp_sum_aII_THYROCARE.rename(columns={'LOCATION': 'Lab'})\n",
        "dfhll_exp_sum_aII_THYROCARE.head(2)"
      ],
      "execution_count": 10,
      "outputs": [
        {
          "output_type": "execute_result",
          "data": {
            "text/html": [
              "<div>\n",
              "<style scoped>\n",
              "    .dataframe tbody tr th:only-of-type {\n",
              "        vertical-align: middle;\n",
              "    }\n",
              "\n",
              "    .dataframe tbody tr th {\n",
              "        vertical-align: top;\n",
              "    }\n",
              "\n",
              "    .dataframe thead th {\n",
              "        text-align: right;\n",
              "    }\n",
              "</style>\n",
              "<table border=\"1\" class=\"dataframe\">\n",
              "  <thead>\n",
              "    <tr style=\"text-align: right;\">\n",
              "      <th></th>\n",
              "      <th>Sr. No.</th>\n",
              "      <th>Lab</th>\n",
              "      <th>Sum of BILLED</th>\n",
              "      <th>Unnamed: 3</th>\n",
              "    </tr>\n",
              "  </thead>\n",
              "  <tbody>\n",
              "    <tr>\n",
              "      <th>0</th>\n",
              "      <td>1</td>\n",
              "      <td>ACHALPUR</td>\n",
              "      <td>11118.01</td>\n",
              "      <td>11118.01</td>\n",
              "    </tr>\n",
              "    <tr>\n",
              "      <th>1</th>\n",
              "      <td>2</td>\n",
              "      <td>AHMEDNAGAR</td>\n",
              "      <td>15675.63</td>\n",
              "      <td>NaN</td>\n",
              "    </tr>\n",
              "  </tbody>\n",
              "</table>\n",
              "</div>"
            ],
            "text/plain": [
              "  Sr. No.         Lab  Sum of BILLED  Unnamed: 3\n",
              "0       1    ACHALPUR       11118.01    11118.01\n",
              "1       2  AHMEDNAGAR       15675.63         NaN"
            ]
          },
          "metadata": {
            "tags": []
          },
          "execution_count": 10
        }
      ]
    },
    {
      "cell_type": "code",
      "metadata": {
        "id": "JOu_O3v25kLQ",
        "colab_type": "code",
        "colab": {
          "base_uri": "https://localhost:8080/",
          "height": 201
        },
        "outputId": "0e1a6f9d-00d2-4275-8cb9-5131a81fc478"
      },
      "source": [
        "#@title *HLL Expenses Summary-Annexure-II.xlsx (info)--Thyrocare* {display-mode: \"form\"}\n",
        "dfhll_exp_sum_aII_THYROCARE.info()"
      ],
      "execution_count": 11,
      "outputs": [
        {
          "output_type": "stream",
          "text": [
            "<class 'pandas.core.frame.DataFrame'>\n",
            "RangeIndex: 106 entries, 0 to 105\n",
            "Data columns (total 4 columns):\n",
            " #   Column         Non-Null Count  Dtype  \n",
            "---  ------         --------------  -----  \n",
            " 0   Sr. No.        106 non-null    object \n",
            " 1   Lab            105 non-null    object \n",
            " 2   Sum of BILLED  106 non-null    float64\n",
            " 3   Unnamed: 3     94 non-null     float64\n",
            "dtypes: float64(2), object(2)\n",
            "memory usage: 3.4+ KB\n"
          ],
          "name": "stdout"
        }
      ]
    },
    {
      "cell_type": "code",
      "metadata": {
        "id": "vxA-FL2Z2lsn",
        "colab_type": "code",
        "colab": {
          "base_uri": "https://localhost:8080/",
          "height": 107
        },
        "outputId": "86928147-6d41-4069-8517-f42e796a7e3f"
      },
      "source": [
        "#@title *HLL Expenses Summary-Annexure-II.xlsx --PATHOLOGIST* {display-mode: \"form\"}\n",
        "dfhll_exp_sum_aII_PATHOLOGIST = dfhll_exp_sum_aII_PATHOLOGIST.rename(columns={'Lab Name': 'Lab'})\n",
        "dfhll_exp_sum_aII_PATHOLOGIST.head(2)"
      ],
      "execution_count": 12,
      "outputs": [
        {
          "output_type": "execute_result",
          "data": {
            "text/html": [
              "<div>\n",
              "<style scoped>\n",
              "    .dataframe tbody tr th:only-of-type {\n",
              "        vertical-align: middle;\n",
              "    }\n",
              "\n",
              "    .dataframe tbody tr th {\n",
              "        vertical-align: top;\n",
              "    }\n",
              "\n",
              "    .dataframe thead th {\n",
              "        text-align: right;\n",
              "    }\n",
              "</style>\n",
              "<table border=\"1\" class=\"dataframe\">\n",
              "  <thead>\n",
              "    <tr style=\"text-align: right;\">\n",
              "      <th></th>\n",
              "      <th>Sr. No</th>\n",
              "      <th>Employee Name</th>\n",
              "      <th>Vendor Code</th>\n",
              "      <th>Designation</th>\n",
              "      <th>Lab</th>\n",
              "      <th>Salary revision if any</th>\n",
              "      <th>DEC'19</th>\n",
              "      <th>JV NO.</th>\n",
              "    </tr>\n",
              "  </thead>\n",
              "  <tbody>\n",
              "    <tr>\n",
              "      <th>0</th>\n",
              "      <td>1.0</td>\n",
              "      <td>Dr. Vijay Gawali</td>\n",
              "      <td>708358.0</td>\n",
              "      <td>Consultant Pathologist-Jawhar &amp; Sangamner</td>\n",
              "      <td>Jawhar</td>\n",
              "      <td>40000.0</td>\n",
              "      <td>80000.0</td>\n",
              "      <td>1.900201e+09</td>\n",
              "    </tr>\n",
              "    <tr>\n",
              "      <th>1</th>\n",
              "      <td>NaN</td>\n",
              "      <td>NaN</td>\n",
              "      <td>NaN</td>\n",
              "      <td>NaN</td>\n",
              "      <td>Sangamner</td>\n",
              "      <td>40000.0</td>\n",
              "      <td>NaN</td>\n",
              "      <td>NaN</td>\n",
              "    </tr>\n",
              "  </tbody>\n",
              "</table>\n",
              "</div>"
            ],
            "text/plain": [
              "   Sr. No     Employee Name  ...   DEC'19        JV NO.\n",
              "0     1.0  Dr. Vijay Gawali  ...  80000.0  1.900201e+09\n",
              "1     NaN               NaN  ...      NaN           NaN\n",
              "\n",
              "[2 rows x 8 columns]"
            ]
          },
          "metadata": {
            "tags": []
          },
          "execution_count": 12
        }
      ]
    },
    {
      "cell_type": "code",
      "metadata": {
        "id": "9M84K_jH5qhi",
        "colab_type": "code",
        "colab": {
          "base_uri": "https://localhost:8080/",
          "height": 268
        },
        "outputId": "b0065896-fa22-4f3a-e3c4-27360cc1e08a"
      },
      "source": [
        "#@title *HLL Expenses Summary-Annexure-II.xlsx (info)--PATHOLOGIST* {display-mode: \"form\"}\n",
        "dfhll_exp_sum_aII_PATHOLOGIST.info()"
      ],
      "execution_count": 13,
      "outputs": [
        {
          "output_type": "stream",
          "text": [
            "<class 'pandas.core.frame.DataFrame'>\n",
            "RangeIndex: 142 entries, 0 to 141\n",
            "Data columns (total 8 columns):\n",
            " #   Column                  Non-Null Count  Dtype  \n",
            "---  ------                  --------------  -----  \n",
            " 0   Sr. No                  103 non-null    float64\n",
            " 1   Employee Name           103 non-null    object \n",
            " 2   Vendor Code             103 non-null    float64\n",
            " 3   Designation             103 non-null    object \n",
            " 4   Lab                     141 non-null    object \n",
            " 5   Salary revision if any  142 non-null    float64\n",
            " 6   DEC'19                  104 non-null    float64\n",
            " 7   JV NO.                  103 non-null    float64\n",
            "dtypes: float64(5), object(3)\n",
            "memory usage: 9.0+ KB\n"
          ],
          "name": "stdout"
        }
      ]
    },
    {
      "cell_type": "code",
      "metadata": {
        "id": "nJKPqaHN2ozY",
        "colab_type": "code",
        "colab": {
          "base_uri": "https://localhost:8080/",
          "height": 140
        },
        "outputId": "3618d1e3-92fa-4635-de69-70b52046545c"
      },
      "source": [
        "#@title *Lab Wise Business Report_Annexure-I.xls* {display-mode: \"form\"}\n",
        "dflab_wise_business_Ann_I = dflab_wise_business_Ann_I.rename(columns={'Lab Name': 'Lab'})\n",
        "dflab_wise_business_Ann_I.head(2)"
      ],
      "execution_count": 14,
      "outputs": [
        {
          "output_type": "execute_result",
          "data": {
            "text/html": [
              "<div>\n",
              "<style scoped>\n",
              "    .dataframe tbody tr th:only-of-type {\n",
              "        vertical-align: middle;\n",
              "    }\n",
              "\n",
              "    .dataframe tbody tr th {\n",
              "        vertical-align: top;\n",
              "    }\n",
              "\n",
              "    .dataframe thead th {\n",
              "        text-align: right;\n",
              "    }\n",
              "</style>\n",
              "<table border=\"1\" class=\"dataframe\">\n",
              "  <thead>\n",
              "    <tr style=\"text-align: right;\">\n",
              "      <th></th>\n",
              "      <th>Division Name</th>\n",
              "      <th>District Name</th>\n",
              "      <th>Lab</th>\n",
              "      <th>Total Patient</th>\n",
              "      <th>Total Special</th>\n",
              "      <th>Total Normal</th>\n",
              "      <th>TAT MET</th>\n",
              "      <th>TAT FAIL</th>\n",
              "      <th>TAT MET %</th>\n",
              "      <th>Total Revenue</th>\n",
              "      <th>Penalty(On Completed Test)</th>\n",
              "      <th>Penalty(On Pending Test)</th>\n",
              "      <th>Total Penalty</th>\n",
              "      <th>Claim Amount</th>\n",
              "      <th>RejectedPatientcount</th>\n",
              "    </tr>\n",
              "  </thead>\n",
              "  <tbody>\n",
              "    <tr>\n",
              "      <th>1</th>\n",
              "      <td>AMRAVATI</td>\n",
              "      <td>Akola</td>\n",
              "      <td>Akola</td>\n",
              "      <td>11233</td>\n",
              "      <td>1194</td>\n",
              "      <td>25331</td>\n",
              "      <td>26306</td>\n",
              "      <td>219</td>\n",
              "      <td>99.17</td>\n",
              "      <td>2066035.48</td>\n",
              "      <td>0</td>\n",
              "      <td>0</td>\n",
              "      <td>6601.80</td>\n",
              "      <td>2059433.68</td>\n",
              "      <td>0.0</td>\n",
              "    </tr>\n",
              "    <tr>\n",
              "      <th>2</th>\n",
              "      <td>AMRAVATI</td>\n",
              "      <td>Akola</td>\n",
              "      <td>Akot</td>\n",
              "      <td>2977</td>\n",
              "      <td>234</td>\n",
              "      <td>8326</td>\n",
              "      <td>8410</td>\n",
              "      <td>150</td>\n",
              "      <td>98.25</td>\n",
              "      <td>508406.90</td>\n",
              "      <td>0</td>\n",
              "      <td>0</td>\n",
              "      <td>7888.94</td>\n",
              "      <td>500517.96</td>\n",
              "      <td>0.0</td>\n",
              "    </tr>\n",
              "  </tbody>\n",
              "</table>\n",
              "</div>"
            ],
            "text/plain": [
              "  Division Name District Name  ... Claim Amount  RejectedPatientcount\n",
              "1      AMRAVATI         Akola  ...   2059433.68                   0.0\n",
              "2      AMRAVATI         Akola  ...    500517.96                   0.0\n",
              "\n",
              "[2 rows x 15 columns]"
            ]
          },
          "metadata": {
            "tags": []
          },
          "execution_count": 14
        }
      ]
    },
    {
      "cell_type": "code",
      "metadata": {
        "id": "OBVsteUO5wfg",
        "colab_type": "code",
        "colab": {
          "base_uri": "https://localhost:8080/",
          "height": 385
        },
        "outputId": "4f891ace-063f-4edb-e1ec-2bd1df3d2379"
      },
      "source": [
        "#@title *Lab Wise Business Report_Annexure-I.xls (info)* {display-mode: \"form\"}\n",
        "dflab_wise_business_Ann_I.info()"
      ],
      "execution_count": 15,
      "outputs": [
        {
          "output_type": "stream",
          "text": [
            "<class 'pandas.core.frame.DataFrame'>\n",
            "Int64Index: 137 entries, 1 to 137\n",
            "Data columns (total 15 columns):\n",
            " #   Column                      Non-Null Count  Dtype  \n",
            "---  ------                      --------------  -----  \n",
            " 0   Division Name               137 non-null    object \n",
            " 1   District Name               137 non-null    object \n",
            " 2   Lab                         137 non-null    object \n",
            " 3   Total Patient               137 non-null    int64  \n",
            " 4   Total Special               137 non-null    int64  \n",
            " 5   Total Normal                137 non-null    int64  \n",
            " 6   TAT MET                     137 non-null    int64  \n",
            " 7   TAT FAIL                    137 non-null    int64  \n",
            " 8   TAT MET %                   137 non-null    float64\n",
            " 9   Total Revenue               137 non-null    float64\n",
            " 10  Penalty(On Completed Test)  137 non-null    int64  \n",
            " 11  Penalty(On Pending Test)    137 non-null    int64  \n",
            " 12  Total Penalty               137 non-null    float64\n",
            " 13  Claim Amount                137 non-null    float64\n",
            " 14  RejectedPatientcount        137 non-null    float64\n",
            "dtypes: float64(5), int64(7), object(3)\n",
            "memory usage: 17.1+ KB\n"
          ],
          "name": "stdout"
        }
      ]
    },
    {
      "cell_type": "code",
      "metadata": {
        "id": "4aQPI03A2rH5",
        "colab_type": "code",
        "colab": {
          "base_uri": "https://localhost:8080/",
          "height": 107
        },
        "outputId": "3f4e8b52-90d8-474e-cbb7-dbfdb8cb9f42"
      },
      "source": [
        "#@title *Rent for Dec 19_Annexure-5.xlsx - Sheet1* {display-mode: \"form\"}\n",
        "dfRentDec19_Annexure_5 = dfRentDec19_Annexure_5.rename(columns={'Lab Location': 'Lab'})\n",
        "dfRentDec19_Annexure_5.head(2)"
      ],
      "execution_count": 16,
      "outputs": [
        {
          "output_type": "execute_result",
          "data": {
            "text/html": [
              "<div>\n",
              "<style scoped>\n",
              "    .dataframe tbody tr th:only-of-type {\n",
              "        vertical-align: middle;\n",
              "    }\n",
              "\n",
              "    .dataframe tbody tr th {\n",
              "        vertical-align: top;\n",
              "    }\n",
              "\n",
              "    .dataframe thead th {\n",
              "        text-align: right;\n",
              "    }\n",
              "</style>\n",
              "<table border=\"1\" class=\"dataframe\">\n",
              "  <thead>\n",
              "    <tr style=\"text-align: right;\">\n",
              "      <th></th>\n",
              "      <th>Sr.No.</th>\n",
              "      <th>District</th>\n",
              "      <th>Lab</th>\n",
              "      <th>Owner</th>\n",
              "      <th>Owner account details</th>\n",
              "      <th>Gross Rent</th>\n",
              "    </tr>\n",
              "  </thead>\n",
              "  <tbody>\n",
              "    <tr>\n",
              "      <th>0</th>\n",
              "      <td>1.0</td>\n",
              "      <td>Nagpur</td>\n",
              "      <td>Ramtek</td>\n",
              "      <td>Jagdish Deshmukh  9970850501</td>\n",
              "      <td>Bhushan Jagdish Deshmukh       UCO Bank, Ramte...</td>\n",
              "      <td>7502.0</td>\n",
              "    </tr>\n",
              "    <tr>\n",
              "      <th>1</th>\n",
              "      <td>2.0</td>\n",
              "      <td>Dhule</td>\n",
              "      <td>Dhule</td>\n",
              "      <td>Sangita Ramesh Patil</td>\n",
              "      <td>Sangita Ramesh Patil                   Central...</td>\n",
              "      <td>14000.0</td>\n",
              "    </tr>\n",
              "  </tbody>\n",
              "</table>\n",
              "</div>"
            ],
            "text/plain": [
              "   Sr.No.  ... Gross Rent\n",
              "0     1.0  ...     7502.0\n",
              "1     2.0  ...    14000.0\n",
              "\n",
              "[2 rows x 6 columns]"
            ]
          },
          "metadata": {
            "tags": []
          },
          "execution_count": 16
        }
      ]
    },
    {
      "cell_type": "code",
      "metadata": {
        "id": "3X1IPFV_53NQ",
        "colab_type": "code",
        "colab": {
          "base_uri": "https://localhost:8080/",
          "height": 234
        },
        "outputId": "50c66a1c-d97f-40f4-bef5-3a02f33e5c32"
      },
      "source": [
        "#@title *Rent for Dec 19_Annexure-5.xlsx (info) - Sheet1* {display-mode: \"form\"}\n",
        "dfRentDec19_Annexure_5.info()"
      ],
      "execution_count": 17,
      "outputs": [
        {
          "output_type": "stream",
          "text": [
            "<class 'pandas.core.frame.DataFrame'>\n",
            "RangeIndex: 66 entries, 0 to 65\n",
            "Data columns (total 6 columns):\n",
            " #   Column                 Non-Null Count  Dtype  \n",
            "---  ------                 --------------  -----  \n",
            " 0   Sr.No.                 65 non-null     float64\n",
            " 1   District               61 non-null     object \n",
            " 2   Lab                    65 non-null     object \n",
            " 3   Owner                  65 non-null     object \n",
            " 4   Owner account details  65 non-null     object \n",
            " 5   Gross Rent             66 non-null     float64\n",
            "dtypes: float64(2), object(4)\n",
            "memory usage: 3.2+ KB\n"
          ],
          "name": "stdout"
        }
      ]
    },
    {
      "cell_type": "code",
      "metadata": {
        "id": "hqtQeSBSMw55",
        "colab_type": "code",
        "colab": {
          "base_uri": "https://localhost:8080/",
          "height": 167
        },
        "outputId": "a6d24053-9326-41ab-86d6-90bbc99f7bc1"
      },
      "source": [
        "#@title *Create Master Dataframe,Distric and Lab wise unique data, drop null columns rows, Changes data to upper case* {display-mode: \"form\"}\n",
        "dfCosolidated_sheet_for_Dec_2019_Annexure_3['District'] = dfCosolidated_sheet_for_Dec_2019_Annexure_3['District'].str.upper() \n",
        "dfCosolidated_sheet_for_Dec_2019_Annexure_3['Lab'] = dfCosolidated_sheet_for_Dec_2019_Annexure_3['Lab'].str.upper() \n",
        "dfCostingSheet=dfCosolidated_sheet_for_Dec_2019_Annexure_3.drop_duplicates(['District','Lab'])[['District','Lab']]\n",
        "dfCostingSheet= dfCostingSheet.dropna()\n",
        "dfCostingSheet.info()"
      ],
      "execution_count": 49,
      "outputs": [
        {
          "output_type": "stream",
          "text": [
            "<class 'pandas.core.frame.DataFrame'>\n",
            "Int64Index: 172 entries, 0 to 3181\n",
            "Data columns (total 2 columns):\n",
            " #   Column    Non-Null Count  Dtype \n",
            "---  ------    --------------  ----- \n",
            " 0   District  172 non-null    object\n",
            " 1   Lab       172 non-null    object\n",
            "dtypes: object(2)\n",
            "memory usage: 4.0+ KB\n"
          ],
          "name": "stdout"
        }
      ]
    },
    {
      "cell_type": "code",
      "metadata": {
        "id": "5xGdnvfJHgqC",
        "colab_type": "code",
        "colab": {
          "base_uri": "https://localhost:8080/",
          "height": 1000
        },
        "outputId": "950616d7-b537-4d26-c753-10bce3bb5d00"
      },
      "source": [
        "#@title *Master Dataframe - Reset index / Order by Lab* {display-mode: \"form\"}\n",
        "pd.set_option('display.max_rows', dfCostingSheet.shape[0]+1)\n",
        "dfCostingSheet.sort_values(\"Lab\", axis = 0, ascending = True, \n",
        "                 inplace = True, na_position ='last')\n",
        "dfCostingSheet.reset_index(drop=True, inplace=True)\n",
        "print(dfCostingSheet)\n"
      ],
      "execution_count": 62,
      "outputs": [
        {
          "output_type": "stream",
          "text": [
            "        District                    Lab\n",
            "0       AMRAVATI               ACHALPUR\n",
            "1     AHMEDNAGAR             AHMADNAGAR\n",
            "2           BEED             AHMADNAGAR\n",
            "3        SOLAPUR               AKKALKOT\n",
            "4      NANDURBAR              AKKALKUWA\n",
            "5          AKOLA                  AKOLA\n",
            "6          AKOLA                   AKOT\n",
            "7          AKOLA                  AKOT \n",
            "8           PUNE           AKURDI(PUNE)\n",
            "9         RAIGAD                ALIBAUG\n",
            "10    GADCHIROLI               ALLAPALI\n",
            "11    GADCHIROLI              ALLPALLAI\n",
            "12      AMRAVATI               AMRAVATI\n",
            "13      YAVATMAL                   ARNI\n",
            "14        WARDHA                   ARVI\n",
            "15       SOLAPUR                 ATPADI\n",
            "16        SANGLI                 ATPADI\n",
            "17    AURANGABAD             AURANGABAD\n",
            "18        SANGLI              BAMBAVADE\n",
            "19      KOLHAPUR              BAMBAVADE\n",
            "20         THANE              BAMBAVADE\n",
            "21          PUNE               BARAMATI\n",
            "22        SATARA               BARAMATI\n",
            "23       SOLAPUR                 BARSHI\n",
            "24     OSMANABAD                 BARSHI\n",
            "25          BEED                   BEED\n",
            "26      BHADGAON               BHADGAON\n",
            "27       JALGAON               BHADGAON\n",
            "28      BHANDARA               BHANDARA\n",
            "29        NAGPUR               BHANDARA\n",
            "30      BULDHANA               BULDHANA\n",
            "31         JALNA               BULDHANA\n",
            "32    CHANDRAPUR             CHANDRAPUR\n",
            "33     RATNAGIRI                CHIPLUN\n",
            "34       JALGAON                 CHOPDA\n",
            "35       PALGHAR                 DAHANU\n",
            "36        SATARA               DAHIWADI\n",
            "37        GONDIA                  DEORI\n",
            "38     NANDURBAR               DHADGAON\n",
            "39        NANDED              DHARMABAD\n",
            "40      AMRAVATI                 DHARNI\n",
            "41         DHULE                  DHULE\n",
            "42    GADCHIROLI             GADCHIROLI\n",
            "43      KOLHAPUR             GADHINGLAJ\n",
            "44        GONDIA                 GONDIA\n",
            "45    CHANDRAPUR             GONDPIPARI\n",
            "46        NANDED           HIMAYATNAGAR\n",
            "47        WARDHA             HINGANGHAT\n",
            "48       HINGOLI                HINGOLI\n",
            "49          PUNE                INDAPUR\n",
            "50       SOLAPUR                INDAPUR\n",
            "51        SANGLI               ISLAMPUR\n",
            "52        NANDED               ISLAMPUR\n",
            "53         JALNA               JAFRABAD\n",
            "54         JALNA                 JALANA\n",
            "55       JALGAON                JALGAON\n",
            "56         JALNA                  JALNA\n",
            "57      BULDHANA                  JALNA\n",
            "58    AHMEDNAGAR                JAMKHED\n",
            "59          BEED                JAMKHED\n",
            "60        SANGLI                    JAT\n",
            "61        SANGLI                   JATH\n",
            "62       PALGHAR                 JAWHAR\n",
            "63    GADCHIROLI             JIMALGATTA\n",
            "64      PARBHANI                 JINTUR\n",
            "65          PUNE                 JUNNAR\n",
            "66          PUNE                 JUNNER\n",
            "67     OSMANABAD                 KALAMB\n",
            "68     OSMANABAD                KALLAMB\n",
            "69        NASHIK                 KALWAN\n",
            "70    AURANGABAD                 KANNAD\n",
            "71       JALGAON                 KANNAD\n",
            "72        SATARA                  KARAD\n",
            "73        SANGLI                  KARAD\n",
            "74        WASHIM                KARANJA\n",
            "75        RAIGAD                 KARJAT\n",
            "76      BULDHANA               KHAMGAON\n",
            "77        SATARA               KHANDALA\n",
            "78        RAIGAD               KHARGHAR\n",
            "79     RATNAGIRI                   KHED\n",
            "80        NANDED                 KINWAT\n",
            "81      KOLHAPUR               KOLHAPUR\n",
            "82    CHANDRAPUR     KORPANA/GADCHANDUR\n",
            "83    SINDHUDURG                  KUDAL\n",
            "84      KOLHAPUR                    KUR\n",
            "85    GADCHIROLI               KURKHEDA\n",
            "86         LATUR                  LATUR\n",
            "87         LATUR                 LATUR \n",
            "88     OSMANABAD                 LATUR \n",
            "89   MUMBAI CITY            LOWER PAREL\n",
            "90         THANE            LOWER PAREL\n",
            "91        RAIGAD                  MAHAD\n",
            "92          BEED              MAJALGAON\n",
            "93        NASHIK               MALEGAON\n",
            "94          PUNE                MANCHAR\n",
            "95        RAIGAD                MANGAON\n",
            "96          BEED             MANJLEGAON\n",
            "97        NASHIK                 MANMAD\n",
            "98         JALNA                 MANTHA\n",
            "99      BULDHANA                MEHAKAR\n",
            "100     BULDHANA                 MEHKAR\n",
            "101       NANDED                 MUKHED\n",
            "102      JALGAON            MUKTAINAGAR\n",
            "103        AKOLA             MURTIZAPUR\n",
            "104   CHANDRAPUR                NAGBHID\n",
            "105       NAGPUR                 NAGPUR\n",
            "106     PARBHANI                 NANDED\n",
            "107       NANDED                 NANDED\n",
            "108      HINGOLI                 NANDED\n",
            "109    NANDURBAR              NANDURBAR\n",
            "110       NASHIK                 NASHIK\n",
            "111    NANDURBAR                NAVAPUR\n",
            "112     KOLHAPUR                 NESARI\n",
            "113        LATUR                NILANGA\n",
            "114    OSMANABAD                 OMERGA\n",
            "115    OSMANABAD              OSMANABAD\n",
            "116      PALGHAR                PALGHAR\n",
            "117     YAVATMAL          PANDHARKAWADA\n",
            "118     YAVATMAL  PANDHARKHAWAD/KELAPUR\n",
            "119      SOLAPUR             PANDHARPUR\n",
            "120     PARBHANI                 PARALI\n",
            "121         BEED                 PARALI\n",
            "122     PARBHANI               PARBHANI\n",
            "123         PUNE                   PAUD\n",
            "124         PUNE                   PUNE\n",
            "125     YAVATMAL                  PUSAD\n",
            "126         PUNE            RAJGURNAGAR\n",
            "127         PUNE           RAJGURUNAGAR\n",
            "128       NAGPUR                 RAMTEK\n",
            "129    RATNAGIRI              RATNAGIRI\n",
            "130       RAIGAD               RAVDANDA\n",
            "131        DHULE                  SAKRI\n",
            "132   AHMEDNAGAR              SANGAMNER\n",
            "133     KOLHAPUR                 SANGLI\n",
            "134       SANGLI                 SANGLI\n",
            "135       SATARA                 SATARA\n",
            "136   SINDHUDURG             SAWANTWADI\n",
            "137    NANDURBAR                SHAHADA\n",
            "138        THANE               SHAHAPUR\n",
            "139      PALGHAR               SHAHAPUR\n",
            "140   AHMEDNAGAR               SHEVGAON\n",
            "141        DHULE                SHIRPUR\n",
            "142   AHMEDNAGAR                 SHIRUR\n",
            "143         PUNE                 SHIRUR\n",
            "144         PUNE              SHRIGONDA\n",
            "145   AHMEDNAGAR              SHRIGONDA\n",
            "146   AURANGABAD                 SILLOD\n",
            "147   CHANDRAPUR              SINDEWAHI\n",
            "148   GADCHIROLI               SIRONCHA\n",
            "149      SOLAPUR                SOLAPUR\n",
            "150       NASHIK                SURGANA\n",
            "151         PUNE               SWARGATE\n",
            "152   SINDHUDURG                 TALERE\n",
            "153        THANE                  THANE\n",
            "154       RAIGAD                  THANE\n",
            "155       NASHIK                TRIMBAK\n",
            "156    OSMANABAD               TULJAPUR\n",
            "157      SOLAPUR               TULJAPUR\n",
            "158     BHANDARA                 TUMSAR\n",
            "159       GONDIA                 TUMSAR\n",
            "160        LATUR                  UDGIR\n",
            "161    OSMANABAD                 UMERGA\n",
            "162        LATUR                 UMERGA\n",
            "163   AHMEDNAGAR               VAIJAPUR\n",
            "164   AURANGABAD               VAIJAPUR\n",
            "165      PALGHAR                  VIRAR\n",
            "166        THANE                  VIRAR\n",
            "167       WARDHA                 WARDHA\n",
            "168   CHANDRAPUR                 WARORA\n",
            "169     AMRAVATI                  WARUD\n",
            "170       WASHIM                 WASHIM\n",
            "171     YAVATMAL               YAVATMAL\n"
          ],
          "name": "stdout"
        }
      ]
    },
    {
      "cell_type": "markdown",
      "metadata": {
        "id": "iQkpvcOvd3Pu",
        "colab_type": "text"
      },
      "source": [
        "**Same \"Lab Name\" found in multiple distinct**\n",
        "\n",
        "```\n",
        "161    OSMANABAD                 UMERGA\n",
        "162        LATUR                 UMERGA\n",
        "163   AHMEDNAGAR               VAIJAPUR\n",
        "164   AURANGABAD               VAIJAPUR\n",
        "165      PALGHAR                  VIRAR\n",
        "166        THANE                  VIRAR\n",
        "```\n",
        "\n"
      ]
    }
  ]
}