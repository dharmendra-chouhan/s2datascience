{
  "nbformat": 4,
  "nbformat_minor": 0,
  "metadata": {
    "colab": {
      "name": "Costing Sheet-Dec 2019 with All annexures_13102020_metting.ipynb",
      "provenance": [],
      "collapsed_sections": [],
      "authorship_tag": "ABX9TyO7qeEm2vT22bCOD68r5kJ0",
      "include_colab_link": true
    },
    "kernelspec": {
      "name": "python3",
      "display_name": "Python 3"
    }
  },
  "cells": [
    {
      "cell_type": "markdown",
      "metadata": {
        "id": "view-in-github",
        "colab_type": "text"
      },
      "source": [
        "<a href=\"https://colab.research.google.com/github/dharmendra-chouhan/s2datascience/blob/master/Costing_Sheet_Dec_2019_with_All_annexures_13102020_metting.ipynb\" target=\"_parent\"><img src=\"https://colab.research.google.com/assets/colab-badge.svg\" alt=\"Open In Colab\"/></a>"
      ]
    },
    {
      "cell_type": "code",
      "metadata": {
        "id": "vu8s46xLvN90",
        "outputId": "cfb058ec-ba65-47ed-9bd4-ba67a895b4d3",
        "colab": {
          "base_uri": "https://localhost:8080/",
          "height": 35
        }
      },
      "source": [
        "pip install xlsxwriter"
      ],
      "execution_count": 468,
      "outputs": [
        {
          "output_type": "stream",
          "text": [
            "Requirement already satisfied: xlsxwriter in /usr/local/lib/python3.6/dist-packages (1.3.7)\n"
          ],
          "name": "stdout"
        }
      ]
    },
    {
      "cell_type": "code",
      "metadata": {
        "id": "_tdlCRVE5nM-",
        "outputId": "41c867d6-5deb-4ea2-a38d-8d6a0b3da5db",
        "colab": {
          "base_uri": "https://localhost:8080/",
          "height": 35
        }
      },
      "source": [
        "pip install fuzzywuzzy\n"
      ],
      "execution_count": 469,
      "outputs": [
        {
          "output_type": "stream",
          "text": [
            "Requirement already satisfied: fuzzywuzzy in /usr/local/lib/python3.6/dist-packages (0.18.0)\n"
          ],
          "name": "stdout"
        }
      ]
    },
    {
      "cell_type": "code",
      "metadata": {
        "id": "7x52TUrfydTw"
      },
      "source": [
        "#@title *Read a Excel file from a Google drive** {display-mode: \"form\"}\n",
        "!pip install -U -q PyDrive\n",
        "from pydrive.auth import GoogleAuth\n",
        "from pydrive.drive import GoogleDrive\n",
        "from google.colab import auth\n",
        "from oauth2client.client import GoogleCredentials\n",
        "import pandas as pd\n",
        "\n",
        "# 1. Authenticate and create the PyDrive client.\n",
        "auth.authenticate_user()\n",
        "gauth = GoogleAuth()\n",
        "gauth.credentials = GoogleCredentials.get_application_default()\n",
        "drive = GoogleDrive(gauth)\n",
        "\n",
        "\n",
        "# Lab Wise Business Report_Annexure-I.xls\n",
        "downloaded = drive.CreateFile({'id':'1W31V3JFrzJDpcOIOHlpCY6ETrfxTU5Ue'}) # replace the id with id of file you want to access\n",
        "downloaded.GetContentFile('Lab Wise Business Report_Annexure-I.xls')\n",
        "\n",
        "# Lab Wise Business Report_Annexure-I.xls\n",
        "dflab_wise_business_Ann_I =  pd.read_excel('Lab Wise Business Report_Annexure-I.xls')\n",
        "dflab_wise_business_Ann_I=dflab_wise_business_Ann_I.drop([0])\n",
        "\n",
        "# HLL Expenses Summary-Annexure-II.xlsx\n",
        "downloaded = drive.CreateFile({'id':'1NaFIGXdD7WMiMIpjkkNSCi2m4YOtSIR9'}) # replace the id with id of file you want to access\n",
        "downloaded.GetContentFile('HLL Expenses Summary-Annexure-II.xlsx')\n",
        "\n",
        "\n",
        "\n",
        "# HLL Expenses Summary-Annexure-II.xlsx\n",
        "dfhll_exp_sum_aII_CONSUMABLES =  pd.read_excel('HLL Expenses Summary-Annexure-II.xlsx', sheet_name='CONSUMABLES', skiprows=1)\n",
        "dfhll_exp_sum_aII_RENT =  pd.read_excel('HLL Expenses Summary-Annexure-II.xlsx', sheet_name='RENT', skiprows=1)\n",
        "dfhll_exp_sum_aII_THYROCARE =  pd.read_excel('HLL Expenses Summary-Annexure-II.xlsx', sheet_name='THYROCARE', skiprows=1)\n",
        "dfhll_exp_sum_aII_PATHOLOGIST =  pd.read_excel('HLL Expenses Summary-Annexure-II.xlsx', sheet_name='PATHOLOGIST', skiprows=1)\n",
        "\n",
        "dflab_wise_business_Ann_I = dflab_wise_business_Ann_I.rename(columns={'Lab Name': 'Lab'})\n",
        "dfhll_exp_sum_aII_CONSUMABLES = dfhll_exp_sum_aII_CONSUMABLES.rename(columns={'Location': 'Lab'})\n",
        "dfhll_exp_sum_aII_RENT = dfhll_exp_sum_aII_RENT.rename(columns={'LAB LOCATION': 'Lab'})\n",
        "dfhll_exp_sum_aII_THYROCARE = dfhll_exp_sum_aII_THYROCARE.rename(columns={'LOCATION': 'Lab'})\n",
        "dfhll_exp_sum_aII_PATHOLOGIST = dfhll_exp_sum_aII_PATHOLOGIST.rename(columns={'Lab Name': 'Lab'})\n",
        "\n",
        "\n",
        "#   2. dfhll_exp_sum_aII_CONSUMABLES\n",
        "dfhll_exp_sum_aII_CONSUMABLES['Lab'] = dfhll_exp_sum_aII_CONSUMABLES['Lab'].str.upper()\n",
        "dfhll_exp_sum_aII_CONSUMABLES['Lab'] = dfhll_exp_sum_aII_CONSUMABLES['Lab'].str.strip()\n",
        "\n",
        "  #   3. dfhll_exp_sum_aII_RENT\n",
        "dfhll_exp_sum_aII_RENT['Lab'] = dfhll_exp_sum_aII_RENT['Lab'].str.upper()\n",
        "dfhll_exp_sum_aII_RENT['Lab'] = dfhll_exp_sum_aII_RENT['Lab'].str.strip()\n",
        "  #   4. dfhll_exp_sum_aII_THYROCARE\n",
        "dfhll_exp_sum_aII_THYROCARE['Lab'] = dfhll_exp_sum_aII_THYROCARE['Lab'].str.upper()\n",
        "dfhll_exp_sum_aII_THYROCARE['Lab'] = dfhll_exp_sum_aII_THYROCARE['Lab'].str.strip()\n",
        "  #   5. dfhll_exp_sum_aII_PATHOLOGIST\n",
        "dfhll_exp_sum_aII_PATHOLOGIST['Lab'] = dfhll_exp_sum_aII_PATHOLOGIST['Lab'].str.upper()\n",
        "dfhll_exp_sum_aII_PATHOLOGIST['Lab'] = dfhll_exp_sum_aII_PATHOLOGIST['Lab'].str.strip()\n",
        "\n",
        "dfhll_exp_sum_aII_PATHOLOGIST=dfhll_exp_sum_aII_PATHOLOGIST.groupby(['Lab'])['Salary revision if any'].agg('sum').reset_index()\n",
        "\n",
        "# dfhll_exp_sum_aII_PATHOLOGIST=dfhll_exp_sum_aII_PATHOLOGIST[['Lab','Salary revision if any']]\n",
        "\n",
        "dflab_wise_business_Ann_I['Lab'] = dflab_wise_business_Ann_I['Lab'].str.upper()\n",
        "dflab_wise_business_Ann_I['Lab'] = dflab_wise_business_Ann_I['Lab'].str.strip()\n",
        "\n",
        "dfhll_exp_sum_aII_RENT_groupsum=dfhll_exp_sum_aII_RENT.groupby(['Lab'])['DEC'].agg('sum').reset_index()\n",
        "\n",
        "\n",
        "dfhll_exp_sum_aII_CONSUMABLES=dfhll_exp_sum_aII_CONSUMABLES.groupby(['Lab'])['Invoice Amt'].agg('sum').reset_index()\n",
        "\n",
        "dfhll_exp_sum_aII_THYROCARE=dfhll_exp_sum_aII_THYROCARE.groupby(['Lab'])['Sum of BILLED'].agg('sum').reset_index()"
      ],
      "execution_count": 470,
      "outputs": []
    },
    {
      "cell_type": "markdown",
      "metadata": {
        "id": "HxsMopQQzuZI"
      },
      "source": [
        "# DataFrame EXCEL sheet wise\n",
        "\n",
        "# Cosolidated sheet for Dec 2019_Annexure-3.xlsx\n",
        "  1. dfCosolidated_sheet_for_Dec_2019_Annexure_3\n",
        "\n",
        "# HLL Expenses Summary-Annexure-II.xlsx\n",
        "  2. dfhll_exp_sum_aII_CONSUMABLES\n",
        "  3. dfhll_exp_sum_aII_RENT\n",
        "  4. dfhll_exp_sum_aII_THYROCARE\n",
        "  5. dfhll_exp_sum_aII_PATHOLOGIST\n",
        "\n",
        "# Lab Wise Business Report_Annexure-I.xls\n",
        "  6. dflab_wise_business_Ann_I\n",
        "\n",
        "# Rent for Dec 19_Annexure-5.xlsx\n",
        "  7.dfRentDec19_Annexure_5"
      ]
    },
    {
      "cell_type": "code",
      "metadata": {
        "id": "FQSa141jzlNx",
        "outputId": "37f66ccd-eeff-4eee-9b12-dc9f80ff0e4c",
        "colab": {
          "base_uri": "https://localhost:8080/",
          "height": 17
        }
      },
      "source": [
        "import pandas as pd\n",
        "from google.colab import files\n",
        "from fuzzywuzzy import fuzz\n",
        "from fuzzywuzzy import process\n",
        "\n",
        "CostingSheet = pd.DataFrame()\n",
        "dflab_wise_business_Ann_I['Lab']=dflab_wise_business_Ann_I['Lab'].str.strip()\n",
        "CostingSheet['LAB NAME']=dflab_wise_business_Ann_I['Lab']\n",
        "CostingSheet['District']=dflab_wise_business_Ann_I['District Name']\n",
        "CostingSheet['Type of LAB']=''\n",
        "CostingSheet['No. of Test']=dflab_wise_business_Ann_I['Total Special']+dflab_wise_business_Ann_I['Total Normal']\n",
        "CostingSheet['No. of Sample']=dflab_wise_business_Ann_I['Total Patient']\n",
        "CostingSheet['MONTH']='Dec'\n",
        "CostingSheet['Total Revenue']=dflab_wise_business_Ann_I['Total Revenue']\n",
        "CostingSheet['TAT']=dflab_wise_business_Ann_I['Total Penalty']\n",
        "CostingSheet['Revenue After TAT']=dflab_wise_business_Ann_I['Claim Amount']\n",
        "CostingSheet['HLL Margin @ 6.01%']=''\n",
        "\n",
        "\n",
        "dfhll_exp_sum_aII_RENT = dfhll_exp_sum_aII_RENT[dfhll_exp_sum_aII_RENT['Lab'].notna()]\n",
        "dfhll_exp_sum_aII_RENT_groupsum['Lab']=dfhll_exp_sum_aII_RENT_groupsum['Lab'].str.strip()\n",
        "\n",
        "rent_mismatch=dfhll_exp_sum_aII_RENT_groupsum[~dfhll_exp_sum_aII_RENT_groupsum.Lab.isin(CostingSheet['LAB NAME'].values)]\n",
        "rent_missingdata=dfhll_exp_sum_aII_RENT_groupsum[~dfhll_exp_sum_aII_RENT_groupsum.Lab.isin(CostingSheet['LAB NAME'].values)]\n",
        "\n",
        "for i, j in rent_missingdata.iterrows():\n",
        "    labrent=CostingSheet[CostingSheet.apply(lambda row: fuzz.token_sort_ratio(row['LAB NAME'], j['Lab']), axis=1) > 70]['LAB NAME'].count()==1 \n",
        "\n",
        "    if  labrent==1:\n",
        "      newvalues=CostingSheet[CostingSheet.apply(lambda row: fuzz.token_sort_ratio(row['LAB NAME'], j['Lab']), axis=1) > 70]['LAB NAME'].values[0]\n",
        "      dfhll_exp_sum_aII_RENT_groupsum['Lab'] = dfhll_exp_sum_aII_RENT_groupsum['Lab'].replace([j['Lab']],newvalues)\n",
        "\n",
        "rent_missingdata=dfhll_exp_sum_aII_RENT_groupsum[~dfhll_exp_sum_aII_RENT_groupsum.Lab.isin(CostingSheet['LAB NAME'].values)]\n",
        "for i, j in rent_missingdata.iterrows():\n",
        "    labrent=CostingSheet[CostingSheet.apply(lambda row: fuzz.token_sort_ratio(row['LAB NAME'], j['Lab']), axis=1) > 90]['LAB NAME'].count()==1 \n",
        "\n",
        "    if  labrent==1:\n",
        "      newvalues=CostingSheet[CostingSheet.apply(lambda row: fuzz.token_sort_ratio(row['LAB NAME'], j['Lab']), axis=1) > 90]['LAB NAME'].values[0]\n",
        "      dfhll_exp_sum_aII_RENT_groupsum['Lab'] = dfhll_exp_sum_aII_RENT_groupsum['Lab'].replace([j['Lab']],newvalues)\n",
        "\n",
        "\n",
        "CostingSheet = pd.merge(CostingSheet, dfhll_exp_sum_aII_RENT_groupsum, how='left', left_on='LAB NAME', right_on='Lab')\n",
        "CostingSheet=CostingSheet.drop(['Lab'], axis = 1) \n",
        "# CostingSheet=CostingSheet.drop(['key'], axis = 1) \n",
        "CostingSheet.rename(columns = {'DEC':'Rent'}, inplace = True) \n",
        "\n",
        "rent_missingdata=dfhll_exp_sum_aII_RENT_groupsum[~dfhll_exp_sum_aII_RENT_groupsum.Lab.isin(CostingSheet['LAB NAME'].values)]\n",
        "\n",
        "\n",
        "for i, j in rent_missingdata.iterrows():\n",
        "  x=CostingSheet[CostingSheet.apply(lambda row: fuzz.token_sort_ratio(row['LAB NAME'], j['Lab']), axis=1) > 80]\n",
        "  x=x[x['Rent'].isnull()]\n",
        "  labrent=x[x.apply(lambda row: fuzz.token_sort_ratio(row['LAB NAME'], j['Lab']), axis=1) > 80]['LAB NAME'].count()==1 \n",
        "  if  labrent==1:\n",
        "      newvalues=x[x.apply(lambda row: fuzz.token_sort_ratio(row['LAB NAME'], j['Lab']), axis=1) > 80]['LAB NAME'].values[0]\n",
        "      dfhll_exp_sum_aII_RENT_groupsum['Lab'] = dfhll_exp_sum_aII_RENT_groupsum['Lab'].replace([j['Lab']],newvalues)\n",
        "\n",
        "\n",
        "CostingSheet = pd.merge(CostingSheet, dfhll_exp_sum_aII_RENT_groupsum, how='left', left_on='LAB NAME', right_on='Lab')\n",
        "CostingSheet=CostingSheet.drop(['Lab'], axis = 1) \n",
        "CostingSheet=CostingSheet.drop(['Rent'], axis = 1) \n",
        "CostingSheet.rename(columns = {'DEC':'Rent'}, inplace = True)\n",
        "rent_missingdata=dfhll_exp_sum_aII_RENT_groupsum[~dfhll_exp_sum_aII_RENT_groupsum.Lab.isin(CostingSheet['LAB NAME'].values)]\n",
        "\n",
        "\n",
        "\n",
        "CostingSheet['FTC & Permanent Employee Salary']=''\n",
        "\n",
        "\n",
        "dfhll_exp_sum_aII_PATHOLOGIST['Lab']=dfhll_exp_sum_aII_PATHOLOGIST['Lab'].str.strip()\n",
        "PathalogistConsultancy_missingdata=dfhll_exp_sum_aII_PATHOLOGIST[~dfhll_exp_sum_aII_PATHOLOGIST.Lab.isin(CostingSheet['LAB NAME'].values)]\n",
        "PathalogistConsultancy_missingdata_all=dfhll_exp_sum_aII_PATHOLOGIST[~dfhll_exp_sum_aII_PATHOLOGIST.Lab.isin(CostingSheet['LAB NAME'].values)]\n",
        "for i, j1 in PathalogistConsultancy_missingdata.iterrows():\n",
        "    labrent=CostingSheet[CostingSheet.apply(lambda row: fuzz.token_sort_ratio(row['LAB NAME'], j1['Lab']), axis=1) > 70]['LAB NAME'].count()==1 \n",
        "\n",
        "    if  labrent==1:\n",
        "      newvalues=CostingSheet[CostingSheet.apply(lambda row: fuzz.token_sort_ratio(row['LAB NAME'], j1['Lab']), axis=1) > 70]['LAB NAME'].values[0]\n",
        "      dfhll_exp_sum_aII_PATHOLOGIST['Lab'] = dfhll_exp_sum_aII_PATHOLOGIST['Lab'].replace([j1['Lab']],newvalues)\n",
        "\n",
        "# dfhll_exp_sum_aII_PATHOLOGIST['Lab']=dfhll_exp_sum_aII_PATHOLOGIST['Lab'].str.strip()\n",
        "# CostingSheet = pd.merge(CostingSheet, dfhll_exp_sum_aII_PATHOLOGIST, how='left', left_on='LAB NAME', right_on='Lab')\n",
        "# CostingSheet=CostingSheet.drop(['Lab'], axis = 1) \n",
        "# CostingSheet.rename(columns = {'Salary revision if any':'Pathalogist Consultancy'}, inplace = True) \n",
        "\n",
        "PathalogistConsultancy_missingdata=dfhll_exp_sum_aII_PATHOLOGIST[~dfhll_exp_sum_aII_PATHOLOGIST.Lab.isin(CostingSheet['LAB NAME'].values)]\n",
        "\n",
        "for i, j1 in PathalogistConsultancy_missingdata.iterrows():\n",
        "    labrent=CostingSheet[CostingSheet.apply(lambda row: fuzz.token_sort_ratio(row['LAB NAME'], j1['Lab']), axis=1) > 90]['LAB NAME'].count()==1 \n",
        "\n",
        "    if  labrent==1:\n",
        "      newvalues=CostingSheet[CostingSheet.apply(lambda row: fuzz.token_sort_ratio(row['LAB NAME'], j1['Lab']), axis=1) > 90]['LAB NAME'].values[0]\n",
        "      dfhll_exp_sum_aII_PATHOLOGIST['Lab'] = dfhll_exp_sum_aII_PATHOLOGIST['Lab'].replace([j1['Lab']],newvalues)\n",
        "\n",
        "\n",
        "CostingSheet = pd.merge(CostingSheet, dfhll_exp_sum_aII_PATHOLOGIST, how='left', left_on='LAB NAME', right_on='Lab')\n",
        "CostingSheet=CostingSheet.drop(['Lab'], axis = 1) \n",
        "CostingSheet.rename(columns = {'Salary revision if any':'Pathalogist Consultancy'}, inplace = True) \n",
        "\n",
        "PathalogistConsultancy_missingdata=dfhll_exp_sum_aII_PATHOLOGIST[~dfhll_exp_sum_aII_PATHOLOGIST.Lab.isin(CostingSheet['LAB NAME'].values)]\n",
        "\n",
        "for i, j in PathalogistConsultancy_missingdata.iterrows():\n",
        "  x=CostingSheet[CostingSheet.apply(lambda row: fuzz.token_sort_ratio(row['LAB NAME'], j['Lab']), axis=1) > 80]\n",
        "  x=x[x['Pathalogist Consultancy'].isnull()]\n",
        "  labrent=x[x.apply(lambda row: fuzz.token_sort_ratio(row['LAB NAME'], j['Lab']), axis=1) > 80]['LAB NAME'].count()==1 \n",
        "  if  labrent==1:\n",
        "      newvalues=x[x.apply(lambda row: fuzz.token_sort_ratio(row['LAB NAME'], j['Lab']), axis=1) > 80]['LAB NAME'].values[0]\n",
        "      dfhll_exp_sum_aII_PATHOLOGIST['Lab'] = dfhll_exp_sum_aII_PATHOLOGIST['Lab'].replace([j['Lab']],newvalues)\n",
        "\n",
        "CostingSheet = pd.merge(CostingSheet, dfhll_exp_sum_aII_PATHOLOGIST, how='left', left_on='LAB NAME', right_on='Lab')\n",
        "CostingSheet=CostingSheet.drop(['Lab'], axis = 1) \n",
        "CostingSheet=CostingSheet.drop(['Pathalogist Consultancy'], axis = 1) \n",
        "CostingSheet.rename(columns = {'Salary revision if any':'Pathalogist Consultancy'}, inplace = True)\n",
        "\n",
        "PathalogistConsultancy_missingdata=dfhll_exp_sum_aII_PATHOLOGIST[~dfhll_exp_sum_aII_PATHOLOGIST.Lab.isin(CostingSheet['LAB NAME'].values)]\n",
        "\n",
        "\n",
        "CONSUMABLES_missingdata=dfhll_exp_sum_aII_CONSUMABLES[~dfhll_exp_sum_aII_CONSUMABLES.Lab.isin(CostingSheet['LAB NAME'].values)]\n",
        "CONSUMABLES_missingdat_all=dfhll_exp_sum_aII_CONSUMABLES[~dfhll_exp_sum_aII_CONSUMABLES.Lab.isin(CostingSheet['LAB NAME'].values)]\n",
        "for i, j in CONSUMABLES_missingdata.iterrows():\n",
        "  x=CostingSheet[CostingSheet.apply(lambda row: fuzz.token_sort_ratio(row['LAB NAME'], j['Lab']), axis=1) > 80]\n",
        "  x=x[x['Rent'].isnull()]\n",
        "  labrent=x[x.apply(lambda row: fuzz.token_sort_ratio(row['LAB NAME'], j['Lab']), axis=1) > 80]['LAB NAME'].count()==1 \n",
        "  if  labrent==1:\n",
        "      newvalues=x[x.apply(lambda row: fuzz.token_sort_ratio(row['LAB NAME'], j['Lab']), axis=1) > 80]['LAB NAME'].values[0]\n",
        "      dfhll_exp_sum_aII_CONSUMABLES['Lab'] = dfhll_exp_sum_aII_CONSUMABLES['Lab'].replace([j['Lab']],newvalues)\n",
        "\n",
        "\n",
        "dfhll_exp_sum_aII_CONSUMABLES['Lab']=dfhll_exp_sum_aII_CONSUMABLES['Lab'].str.strip()\n",
        "CostingSheet = pd.merge(CostingSheet, dfhll_exp_sum_aII_CONSUMABLES, how='left', left_on='LAB NAME', right_on='Lab')\n",
        "CostingSheet=CostingSheet.drop(['Lab'], axis = 1) \n",
        "CostingSheet.rename(columns = {'Invoice Amt':'Reagent'}, inplace = True) \n",
        "CONSUMABLES_missingdata=dfhll_exp_sum_aII_CONSUMABLES[~dfhll_exp_sum_aII_CONSUMABLES.Lab.isin(CostingSheet['LAB NAME'].values)]\n",
        "\n",
        "\n",
        "THYROCARE_missingdata=dfhll_exp_sum_aII_THYROCARE[~dfhll_exp_sum_aII_THYROCARE.Lab.isin(CostingSheet['LAB NAME'].values)]\n",
        "THYROCARE_missingdata_all=dfhll_exp_sum_aII_THYROCARE[~dfhll_exp_sum_aII_THYROCARE.Lab.isin(CostingSheet['LAB NAME'].values)]\n",
        "for i, j in THYROCARE_missingdata.iterrows():\n",
        "    labrent=CostingSheet[CostingSheet.apply(lambda row: fuzz.token_sort_ratio(row['LAB NAME'], j['Lab']), axis=1) > 70]['LAB NAME'].count()==1 \n",
        "\n",
        "    if  labrent==1:\n",
        "      newvalues=CostingSheet[CostingSheet.apply(lambda row: fuzz.token_sort_ratio(row['LAB NAME'], j['Lab']), axis=1) > 70]['LAB NAME'].values[0]\n",
        "      dfhll_exp_sum_aII_THYROCARE['Lab'] = dfhll_exp_sum_aII_THYROCARE['Lab'].replace([j['Lab']],newvalues)\n",
        "\n",
        "\n",
        "\n",
        "\n",
        "dfhll_exp_sum_aII_THYROCARE['Lab']=dfhll_exp_sum_aII_THYROCARE['Lab'].str.strip()\n",
        "CostingSheet = pd.merge(CostingSheet, dfhll_exp_sum_aII_THYROCARE, how='left', left_on='LAB NAME', right_on='Lab')\n",
        "CostingSheet=CostingSheet.drop(['Lab'], axis = 1) \n",
        "CostingSheet.rename(columns = {'Sum of BILLED':'Payment to Thyrocare for Outsourcing Test'}, inplace = True) \n",
        "\n",
        "THYROCARE_missingdata=dfhll_exp_sum_aII_THYROCARE[~dfhll_exp_sum_aII_THYROCARE.Lab.isin(CostingSheet['LAB NAME'].values)]\n",
        "\n",
        "\n",
        "CostingSheet.to_excel('CostingSheet.xlsx', sheet_name='dfCostingSheet')\n",
        "files.download('CostingSheet.xlsx')\n"
      ],
      "execution_count": 471,
      "outputs": [
        {
          "output_type": "display_data",
          "data": {
            "application/javascript": [
              "\n",
              "    async function download(id, filename, size) {\n",
              "      if (!google.colab.kernel.accessAllowed) {\n",
              "        return;\n",
              "      }\n",
              "      const div = document.createElement('div');\n",
              "      const label = document.createElement('label');\n",
              "      label.textContent = `Downloading \"${filename}\": `;\n",
              "      div.appendChild(label);\n",
              "      const progress = document.createElement('progress');\n",
              "      progress.max = size;\n",
              "      div.appendChild(progress);\n",
              "      document.body.appendChild(div);\n",
              "\n",
              "      const buffers = [];\n",
              "      let downloaded = 0;\n",
              "\n",
              "      const channel = await google.colab.kernel.comms.open(id);\n",
              "      // Send a message to notify the kernel that we're ready.\n",
              "      channel.send({})\n",
              "\n",
              "      for await (const message of channel.messages) {\n",
              "        // Send a message to notify the kernel that we're ready.\n",
              "        channel.send({})\n",
              "        if (message.buffers) {\n",
              "          for (const buffer of message.buffers) {\n",
              "            buffers.push(buffer);\n",
              "            downloaded += buffer.byteLength;\n",
              "            progress.value = downloaded;\n",
              "          }\n",
              "        }\n",
              "      }\n",
              "      const blob = new Blob(buffers, {type: 'application/binary'});\n",
              "      const a = document.createElement('a');\n",
              "      a.href = window.URL.createObjectURL(blob);\n",
              "      a.download = filename;\n",
              "      div.appendChild(a);\n",
              "      a.click();\n",
              "      div.remove();\n",
              "    }\n",
              "  "
            ],
            "text/plain": [
              "<IPython.core.display.Javascript object>"
            ]
          },
          "metadata": {
            "tags": []
          }
        },
        {
          "output_type": "display_data",
          "data": {
            "application/javascript": [
              "download(\"download_8401e8cf-9686-45bf-ab0b-5146d869c263\", \"CostingSheet.xlsx\", 16594)"
            ],
            "text/plain": [
              "<IPython.core.display.Javascript object>"
            ]
          },
          "metadata": {
            "tags": []
          }
        }
      ]
    },
    {
      "cell_type": "code",
      "metadata": {
        "id": "D7pVV-Kw1a5Z",
        "outputId": "530599bc-2e03-4bbf-981e-634c08aaa2ae",
        "colab": {
          "base_uri": "https://localhost:8080/",
          "height": 17
        }
      },
      "source": [
        "import pandas as pd\n",
        "\n",
        "\n",
        "# Create a Pandas Excel writer using XlsxWriter as the engine.\n",
        "writer = pd.ExcelWriter('mismatch_data.xlsx', engine='xlsxwriter')\n",
        "\n",
        "# Position the dataframes in the worksheet.\n",
        "\n",
        "rent_mismatch.to_excel(writer, sheet_name='Rent')  # Default position, cell A1.\n",
        "rent_missingdata.to_excel(writer, sheet_name='Rent', startcol=3)\n",
        "\n",
        "\n",
        "# Position the dataframes in the worksheet.\n",
        "PathalogistConsultancy_missingdata_all.to_excel(writer, sheet_name='Pathalogist Consultancy')  # Default position, cell A1.\n",
        "PathalogistConsultancy_missingdata.to_excel(writer, sheet_name='Pathalogist Consultancy', startcol=3)\n",
        "\n",
        "\n",
        "CONSUMABLES_missingdat_all.to_excel(writer, sheet_name='Reagent')  # Default position, cell A1.\n",
        "CONSUMABLES_missingdata.to_excel(writer, sheet_name='Reagent', startcol=3)\n",
        "\n",
        "THYROCARE_missingdata_all.to_excel(writer, sheet_name='PaymenttoThyrocare')  # Default position, cell A1.\n",
        "THYROCARE_missingdata.to_excel(writer, sheet_name='PaymenttoThyrocare', startcol=3)\n",
        "\n",
        "\n",
        "# Close the Pandas Excel writer and output the Excel file.\n",
        "writer.save()\n",
        "from google.colab import files\n",
        "files.download(writer)\n"
      ],
      "execution_count": 484,
      "outputs": [
        {
          "output_type": "display_data",
          "data": {
            "application/javascript": [
              "\n",
              "    async function download(id, filename, size) {\n",
              "      if (!google.colab.kernel.accessAllowed) {\n",
              "        return;\n",
              "      }\n",
              "      const div = document.createElement('div');\n",
              "      const label = document.createElement('label');\n",
              "      label.textContent = `Downloading \"${filename}\": `;\n",
              "      div.appendChild(label);\n",
              "      const progress = document.createElement('progress');\n",
              "      progress.max = size;\n",
              "      div.appendChild(progress);\n",
              "      document.body.appendChild(div);\n",
              "\n",
              "      const buffers = [];\n",
              "      let downloaded = 0;\n",
              "\n",
              "      const channel = await google.colab.kernel.comms.open(id);\n",
              "      // Send a message to notify the kernel that we're ready.\n",
              "      channel.send({})\n",
              "\n",
              "      for await (const message of channel.messages) {\n",
              "        // Send a message to notify the kernel that we're ready.\n",
              "        channel.send({})\n",
              "        if (message.buffers) {\n",
              "          for (const buffer of message.buffers) {\n",
              "            buffers.push(buffer);\n",
              "            downloaded += buffer.byteLength;\n",
              "            progress.value = downloaded;\n",
              "          }\n",
              "        }\n",
              "      }\n",
              "      const blob = new Blob(buffers, {type: 'application/binary'});\n",
              "      const a = document.createElement('a');\n",
              "      a.href = window.URL.createObjectURL(blob);\n",
              "      a.download = filename;\n",
              "      div.appendChild(a);\n",
              "      a.click();\n",
              "      div.remove();\n",
              "    }\n",
              "  "
            ],
            "text/plain": [
              "<IPython.core.display.Javascript object>"
            ]
          },
          "metadata": {
            "tags": []
          }
        },
        {
          "output_type": "display_data",
          "data": {
            "application/javascript": [
              "download(\"download_364e730e-d005-4d2d-b927-4f1106d6945e\", \"mismatch_data.xlsx\", 7947)"
            ],
            "text/plain": [
              "<IPython.core.display.Javascript object>"
            ]
          },
          "metadata": {
            "tags": []
          }
        }
      ]
    },
    {
      "cell_type": "code",
      "metadata": {
        "id": "VrPJxDpim9Mo",
        "outputId": "d2dd0cfb-f0cb-4178-f0e5-2144c977e57e",
        "colab": {
          "base_uri": "https://localhost:8080/",
          "height": 164
        }
      },
      "source": [
        "PathalogistConsultancy_missingdata"
      ],
      "execution_count": 473,
      "outputs": [
        {
          "output_type": "execute_result",
          "data": {
            "text/html": [
              "<div>\n",
              "<style scoped>\n",
              "    .dataframe tbody tr th:only-of-type {\n",
              "        vertical-align: middle;\n",
              "    }\n",
              "\n",
              "    .dataframe tbody tr th {\n",
              "        vertical-align: top;\n",
              "    }\n",
              "\n",
              "    .dataframe thead th {\n",
              "        text-align: right;\n",
              "    }\n",
              "</style>\n",
              "<table border=\"1\" class=\"dataframe\">\n",
              "  <thead>\n",
              "    <tr style=\"text-align: right;\">\n",
              "      <th></th>\n",
              "      <th>Lab</th>\n",
              "      <th>Salary revision if any</th>\n",
              "    </tr>\n",
              "  </thead>\n",
              "  <tbody>\n",
              "    <tr>\n",
              "      <th>33</th>\n",
              "      <td>GARCHANDUR</td>\n",
              "      <td>30000.0</td>\n",
              "    </tr>\n",
              "    <tr>\n",
              "      <th>37</th>\n",
              "      <td>HARSUL</td>\n",
              "      <td>50000.0</td>\n",
              "    </tr>\n",
              "    <tr>\n",
              "      <th>87</th>\n",
              "      <td>PANDHARKWADA</td>\n",
              "      <td>50000.0</td>\n",
              "    </tr>\n",
              "    <tr>\n",
              "      <th>94</th>\n",
              "      <td>RAIGAD</td>\n",
              "      <td>52500.0</td>\n",
              "    </tr>\n",
              "  </tbody>\n",
              "</table>\n",
              "</div>"
            ],
            "text/plain": [
              "             Lab  Salary revision if any\n",
              "33    GARCHANDUR                 30000.0\n",
              "37        HARSUL                 50000.0\n",
              "87  PANDHARKWADA                 50000.0\n",
              "94        RAIGAD                 52500.0"
            ]
          },
          "metadata": {
            "tags": []
          },
          "execution_count": 473
        }
      ]
    },
    {
      "cell_type": "code",
      "metadata": {
        "id": "i_kyktKmgmhZ",
        "outputId": "b8c773c4-96cc-4b2a-e376-401ba8d4e6dc",
        "colab": {
          "base_uri": "https://localhost:8080/",
          "height": 546
        }
      },
      "source": [
        "PathalogistConsultancy_missingdata_all"
      ],
      "execution_count": 474,
      "outputs": [
        {
          "output_type": "execute_result",
          "data": {
            "text/html": [
              "<div>\n",
              "<style scoped>\n",
              "    .dataframe tbody tr th:only-of-type {\n",
              "        vertical-align: middle;\n",
              "    }\n",
              "\n",
              "    .dataframe tbody tr th {\n",
              "        vertical-align: top;\n",
              "    }\n",
              "\n",
              "    .dataframe thead th {\n",
              "        text-align: right;\n",
              "    }\n",
              "</style>\n",
              "<table border=\"1\" class=\"dataframe\">\n",
              "  <thead>\n",
              "    <tr style=\"text-align: right;\">\n",
              "      <th></th>\n",
              "      <th>Lab</th>\n",
              "      <th>Salary revision if any</th>\n",
              "    </tr>\n",
              "  </thead>\n",
              "  <tbody>\n",
              "    <tr>\n",
              "      <th>1</th>\n",
              "      <td>AHMEDNAGAR</td>\n",
              "      <td>100000.000000</td>\n",
              "    </tr>\n",
              "    <tr>\n",
              "      <th>6</th>\n",
              "      <td>ALIBAG</td>\n",
              "      <td>30000.000000</td>\n",
              "    </tr>\n",
              "    <tr>\n",
              "      <th>7</th>\n",
              "      <td>ALLAPALLI</td>\n",
              "      <td>28333.333333</td>\n",
              "    </tr>\n",
              "    <tr>\n",
              "      <th>32</th>\n",
              "      <td>GADHINGLANJ</td>\n",
              "      <td>25000.000000</td>\n",
              "    </tr>\n",
              "    <tr>\n",
              "      <th>33</th>\n",
              "      <td>GARCHANDUR</td>\n",
              "      <td>30000.000000</td>\n",
              "    </tr>\n",
              "    <tr>\n",
              "      <th>36</th>\n",
              "      <td>GONDPIPRI</td>\n",
              "      <td>30000.000000</td>\n",
              "    </tr>\n",
              "    <tr>\n",
              "      <th>37</th>\n",
              "      <td>HARSUL</td>\n",
              "      <td>50000.000000</td>\n",
              "    </tr>\n",
              "    <tr>\n",
              "      <th>51</th>\n",
              "      <td>KALAMB</td>\n",
              "      <td>20000.000000</td>\n",
              "    </tr>\n",
              "    <tr>\n",
              "      <th>54</th>\n",
              "      <td>KANND</td>\n",
              "      <td>18375.000000</td>\n",
              "    </tr>\n",
              "    <tr>\n",
              "      <th>63</th>\n",
              "      <td>KURUKHEDA</td>\n",
              "      <td>28333.333333</td>\n",
              "    </tr>\n",
              "    <tr>\n",
              "      <th>67</th>\n",
              "      <td>MAJALGAON</td>\n",
              "      <td>22050.000000</td>\n",
              "    </tr>\n",
              "    <tr>\n",
              "      <th>75</th>\n",
              "      <td>MUKHTAINAGAR</td>\n",
              "      <td>35000.000000</td>\n",
              "    </tr>\n",
              "    <tr>\n",
              "      <th>77</th>\n",
              "      <td>NAGBD</td>\n",
              "      <td>21000.000000</td>\n",
              "    </tr>\n",
              "    <tr>\n",
              "      <th>81</th>\n",
              "      <td>NASIK</td>\n",
              "      <td>110000.000000</td>\n",
              "    </tr>\n",
              "    <tr>\n",
              "      <th>87</th>\n",
              "      <td>PANDHARKWADA</td>\n",
              "      <td>50000.000000</td>\n",
              "    </tr>\n",
              "    <tr>\n",
              "      <th>94</th>\n",
              "      <td>RAIGAD</td>\n",
              "      <td>52500.000000</td>\n",
              "    </tr>\n",
              "    <tr>\n",
              "      <th>95</th>\n",
              "      <td>RAJGURUNAGAR</td>\n",
              "      <td>20000.000000</td>\n",
              "    </tr>\n",
              "  </tbody>\n",
              "</table>\n",
              "</div>"
            ],
            "text/plain": [
              "             Lab  Salary revision if any\n",
              "1     AHMEDNAGAR           100000.000000\n",
              "6         ALIBAG            30000.000000\n",
              "7      ALLAPALLI            28333.333333\n",
              "32   GADHINGLANJ            25000.000000\n",
              "33    GARCHANDUR            30000.000000\n",
              "36     GONDPIPRI            30000.000000\n",
              "37        HARSUL            50000.000000\n",
              "51        KALAMB            20000.000000\n",
              "54         KANND            18375.000000\n",
              "63     KURUKHEDA            28333.333333\n",
              "67     MAJALGAON            22050.000000\n",
              "75  MUKHTAINAGAR            35000.000000\n",
              "77         NAGBD            21000.000000\n",
              "81         NASIK           110000.000000\n",
              "87  PANDHARKWADA            50000.000000\n",
              "94        RAIGAD            52500.000000\n",
              "95  RAJGURUNAGAR            20000.000000"
            ]
          },
          "metadata": {
            "tags": []
          },
          "execution_count": 474
        }
      ]
    },
    {
      "cell_type": "code",
      "metadata": {
        "id": "HSZAPSOc_bIX",
        "outputId": "c7a4aefd-34bd-4a43-84eb-da2e0b74631b",
        "colab": {
          "base_uri": "https://localhost:8080/",
          "height": 252
        }
      },
      "source": [
        "rent_mismatch"
      ],
      "execution_count": 475,
      "outputs": [
        {
          "output_type": "execute_result",
          "data": {
            "text/html": [
              "<div>\n",
              "<style scoped>\n",
              "    .dataframe tbody tr th:only-of-type {\n",
              "        vertical-align: middle;\n",
              "    }\n",
              "\n",
              "    .dataframe tbody tr th {\n",
              "        vertical-align: top;\n",
              "    }\n",
              "\n",
              "    .dataframe thead th {\n",
              "        text-align: right;\n",
              "    }\n",
              "</style>\n",
              "<table border=\"1\" class=\"dataframe\">\n",
              "  <thead>\n",
              "    <tr style=\"text-align: right;\">\n",
              "      <th></th>\n",
              "      <th>Lab</th>\n",
              "      <th>DEC</th>\n",
              "    </tr>\n",
              "  </thead>\n",
              "  <tbody>\n",
              "    <tr>\n",
              "      <th>1</th>\n",
              "      <td>AHMEDNAGAR</td>\n",
              "      <td>45342</td>\n",
              "    </tr>\n",
              "    <tr>\n",
              "      <th>4</th>\n",
              "      <td>ALIBAG</td>\n",
              "      <td>156139</td>\n",
              "    </tr>\n",
              "    <tr>\n",
              "      <th>31</th>\n",
              "      <td>MAJALGAON</td>\n",
              "      <td>13842</td>\n",
              "    </tr>\n",
              "    <tr>\n",
              "      <th>42</th>\n",
              "      <td>OMERGA</td>\n",
              "      <td>19086</td>\n",
              "    </tr>\n",
              "    <tr>\n",
              "      <th>43</th>\n",
              "      <td>OSMANBAD</td>\n",
              "      <td>17303</td>\n",
              "    </tr>\n",
              "    <tr>\n",
              "      <th>44</th>\n",
              "      <td>PANDHARKAWADA</td>\n",
              "      <td>12100</td>\n",
              "    </tr>\n",
              "    <tr>\n",
              "      <th>47</th>\n",
              "      <td>PARLI</td>\n",
              "      <td>35866</td>\n",
              "    </tr>\n",
              "  </tbody>\n",
              "</table>\n",
              "</div>"
            ],
            "text/plain": [
              "              Lab     DEC\n",
              "1      AHMEDNAGAR   45342\n",
              "4          ALIBAG  156139\n",
              "31      MAJALGAON   13842\n",
              "42         OMERGA   19086\n",
              "43       OSMANBAD   17303\n",
              "44  PANDHARKAWADA   12100\n",
              "47          PARLI   35866"
            ]
          },
          "metadata": {
            "tags": []
          },
          "execution_count": 475
        }
      ]
    },
    {
      "cell_type": "code",
      "metadata": {
        "id": "i5rqiBT8-Pje",
        "outputId": "55024d3c-3347-465e-f179-71d48e099961",
        "colab": {
          "base_uri": "https://localhost:8080/",
          "height": 47
        }
      },
      "source": [
        "rent_missingdata"
      ],
      "execution_count": 476,
      "outputs": [
        {
          "output_type": "execute_result",
          "data": {
            "text/html": [
              "<div>\n",
              "<style scoped>\n",
              "    .dataframe tbody tr th:only-of-type {\n",
              "        vertical-align: middle;\n",
              "    }\n",
              "\n",
              "    .dataframe tbody tr th {\n",
              "        vertical-align: top;\n",
              "    }\n",
              "\n",
              "    .dataframe thead th {\n",
              "        text-align: right;\n",
              "    }\n",
              "</style>\n",
              "<table border=\"1\" class=\"dataframe\">\n",
              "  <thead>\n",
              "    <tr style=\"text-align: right;\">\n",
              "      <th></th>\n",
              "      <th>Lab</th>\n",
              "      <th>DEC</th>\n",
              "    </tr>\n",
              "  </thead>\n",
              "  <tbody>\n",
              "  </tbody>\n",
              "</table>\n",
              "</div>"
            ],
            "text/plain": [
              "Empty DataFrame\n",
              "Columns: [Lab, DEC]\n",
              "Index: []"
            ]
          },
          "metadata": {
            "tags": []
          },
          "execution_count": 476
        }
      ]
    },
    {
      "cell_type": "code",
      "metadata": {
        "id": "HSmDvDC73EMs",
        "outputId": "ec579d92-e34f-4053-c124-1c87b3ec8597",
        "colab": {
          "base_uri": "https://localhost:8080/",
          "height": 76
        }
      },
      "source": [
        "CONSUMABLES_missingdat_all"
      ],
      "execution_count": 477,
      "outputs": [
        {
          "output_type": "execute_result",
          "data": {
            "text/html": [
              "<div>\n",
              "<style scoped>\n",
              "    .dataframe tbody tr th:only-of-type {\n",
              "        vertical-align: middle;\n",
              "    }\n",
              "\n",
              "    .dataframe tbody tr th {\n",
              "        vertical-align: top;\n",
              "    }\n",
              "\n",
              "    .dataframe thead th {\n",
              "        text-align: right;\n",
              "    }\n",
              "</style>\n",
              "<table border=\"1\" class=\"dataframe\">\n",
              "  <thead>\n",
              "    <tr style=\"text-align: right;\">\n",
              "      <th></th>\n",
              "      <th>Lab</th>\n",
              "      <th>Invoice Amt</th>\n",
              "    </tr>\n",
              "  </thead>\n",
              "  <tbody>\n",
              "    <tr>\n",
              "      <th>28</th>\n",
              "      <td>OSMANBAD</td>\n",
              "      <td>93576</td>\n",
              "    </tr>\n",
              "  </tbody>\n",
              "</table>\n",
              "</div>"
            ],
            "text/plain": [
              "         Lab  Invoice Amt\n",
              "28  OSMANBAD        93576"
            ]
          },
          "metadata": {
            "tags": []
          },
          "execution_count": 477
        }
      ]
    },
    {
      "cell_type": "code",
      "metadata": {
        "id": "-_aY0TmO13i0",
        "outputId": "82498ec9-1a8d-4447-d06c-60d3c2e16eee",
        "colab": {
          "base_uri": "https://localhost:8080/",
          "height": 76
        }
      },
      "source": [
        "CONSUMABLES_missingdata"
      ],
      "execution_count": 478,
      "outputs": [
        {
          "output_type": "execute_result",
          "data": {
            "text/html": [
              "<div>\n",
              "<style scoped>\n",
              "    .dataframe tbody tr th:only-of-type {\n",
              "        vertical-align: middle;\n",
              "    }\n",
              "\n",
              "    .dataframe tbody tr th {\n",
              "        vertical-align: top;\n",
              "    }\n",
              "\n",
              "    .dataframe thead th {\n",
              "        text-align: right;\n",
              "    }\n",
              "</style>\n",
              "<table border=\"1\" class=\"dataframe\">\n",
              "  <thead>\n",
              "    <tr style=\"text-align: right;\">\n",
              "      <th></th>\n",
              "      <th>Lab</th>\n",
              "      <th>Invoice Amt</th>\n",
              "    </tr>\n",
              "  </thead>\n",
              "  <tbody>\n",
              "    <tr>\n",
              "      <th>28</th>\n",
              "      <td>OSMANBAD</td>\n",
              "      <td>93576</td>\n",
              "    </tr>\n",
              "  </tbody>\n",
              "</table>\n",
              "</div>"
            ],
            "text/plain": [
              "         Lab  Invoice Amt\n",
              "28  OSMANBAD        93576"
            ]
          },
          "metadata": {
            "tags": []
          },
          "execution_count": 478
        }
      ]
    },
    {
      "cell_type": "code",
      "metadata": {
        "id": "Wo79q5no4IkV",
        "outputId": "0fdc56f9-cf04-446d-cc62-67dc5b124744",
        "colab": {
          "base_uri": "https://localhost:8080/",
          "height": 106
        }
      },
      "source": [
        "THYROCARE_missingdata"
      ],
      "execution_count": 479,
      "outputs": [
        {
          "output_type": "execute_result",
          "data": {
            "text/html": [
              "<div>\n",
              "<style scoped>\n",
              "    .dataframe tbody tr th:only-of-type {\n",
              "        vertical-align: middle;\n",
              "    }\n",
              "\n",
              "    .dataframe tbody tr th {\n",
              "        vertical-align: top;\n",
              "    }\n",
              "\n",
              "    .dataframe thead th {\n",
              "        text-align: right;\n",
              "    }\n",
              "</style>\n",
              "<table border=\"1\" class=\"dataframe\">\n",
              "  <thead>\n",
              "    <tr style=\"text-align: right;\">\n",
              "      <th></th>\n",
              "      <th>Lab</th>\n",
              "      <th>Sum of BILLED</th>\n",
              "    </tr>\n",
              "  </thead>\n",
              "  <tbody>\n",
              "    <tr>\n",
              "      <th>54</th>\n",
              "      <td>MANJALEGAON</td>\n",
              "      <td>1394.54</td>\n",
              "    </tr>\n",
              "    <tr>\n",
              "      <th>77</th>\n",
              "      <td>SAHADA</td>\n",
              "      <td>1699.63</td>\n",
              "    </tr>\n",
              "  </tbody>\n",
              "</table>\n",
              "</div>"
            ],
            "text/plain": [
              "            Lab  Sum of BILLED\n",
              "54  MANJALEGAON        1394.54\n",
              "77       SAHADA        1699.63"
            ]
          },
          "metadata": {
            "tags": []
          },
          "execution_count": 479
        }
      ]
    },
    {
      "cell_type": "code",
      "metadata": {
        "id": "yW750U9t4KP7",
        "outputId": "5da7b106-91cb-4da8-d1df-9a30fd1fe930",
        "colab": {
          "base_uri": "https://localhost:8080/",
          "height": 311
        }
      },
      "source": [
        "THYROCARE_missingdata_all"
      ],
      "execution_count": 480,
      "outputs": [
        {
          "output_type": "execute_result",
          "data": {
            "text/html": [
              "<div>\n",
              "<style scoped>\n",
              "    .dataframe tbody tr th:only-of-type {\n",
              "        vertical-align: middle;\n",
              "    }\n",
              "\n",
              "    .dataframe tbody tr th {\n",
              "        vertical-align: top;\n",
              "    }\n",
              "\n",
              "    .dataframe thead th {\n",
              "        text-align: right;\n",
              "    }\n",
              "</style>\n",
              "<table border=\"1\" class=\"dataframe\">\n",
              "  <thead>\n",
              "    <tr style=\"text-align: right;\">\n",
              "      <th></th>\n",
              "      <th>Lab</th>\n",
              "      <th>Sum of BILLED</th>\n",
              "    </tr>\n",
              "  </thead>\n",
              "  <tbody>\n",
              "    <tr>\n",
              "      <th>1</th>\n",
              "      <td>AHMEDNAGAR</td>\n",
              "      <td>15675.63</td>\n",
              "    </tr>\n",
              "    <tr>\n",
              "      <th>6</th>\n",
              "      <td>ALLAPALLI</td>\n",
              "      <td>6653.92</td>\n",
              "    </tr>\n",
              "    <tr>\n",
              "      <th>37</th>\n",
              "      <td>JAT</td>\n",
              "      <td>2491.16</td>\n",
              "    </tr>\n",
              "    <tr>\n",
              "      <th>54</th>\n",
              "      <td>MANJALEGAON</td>\n",
              "      <td>1394.54</td>\n",
              "    </tr>\n",
              "    <tr>\n",
              "      <th>57</th>\n",
              "      <td>MEHKAR</td>\n",
              "      <td>269.50</td>\n",
              "    </tr>\n",
              "    <tr>\n",
              "      <th>61</th>\n",
              "      <td>NAGBHIR</td>\n",
              "      <td>1885.78</td>\n",
              "    </tr>\n",
              "    <tr>\n",
              "      <th>77</th>\n",
              "      <td>SAHADA</td>\n",
              "      <td>1699.63</td>\n",
              "    </tr>\n",
              "    <tr>\n",
              "      <th>79</th>\n",
              "      <td>SANGALI</td>\n",
              "      <td>264393.43</td>\n",
              "    </tr>\n",
              "    <tr>\n",
              "      <th>88</th>\n",
              "      <td>SILOD</td>\n",
              "      <td>4521.85</td>\n",
              "    </tr>\n",
              "  </tbody>\n",
              "</table>\n",
              "</div>"
            ],
            "text/plain": [
              "            Lab  Sum of BILLED\n",
              "1    AHMEDNAGAR       15675.63\n",
              "6     ALLAPALLI        6653.92\n",
              "37          JAT        2491.16\n",
              "54  MANJALEGAON        1394.54\n",
              "57       MEHKAR         269.50\n",
              "61      NAGBHIR        1885.78\n",
              "77       SAHADA        1699.63\n",
              "79      SANGALI      264393.43\n",
              "88        SILOD        4521.85"
            ]
          },
          "metadata": {
            "tags": []
          },
          "execution_count": 480
        }
      ]
    }
  ]
}